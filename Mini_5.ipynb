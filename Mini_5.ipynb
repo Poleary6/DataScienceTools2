{
 "cells": [
  {
   "cell_type": "markdown",
   "id": "7d2c6d44",
   "metadata": {},
   "source": [
    "Paul O'Leary\n",
    "\n",
    "Comp 4448\n",
    "\n",
    "MiniProject - Assignment 5 - Naive Bayes\n",
    "\n",
    "July 26, 2021\n",
    "\n"
   ]
  },
  {
   "cell_type": "code",
   "execution_count": 1,
   "id": "d4a133f6",
   "metadata": {},
   "outputs": [],
   "source": [
    "# Load some of the standards\n",
    "\n",
    "import pandas as pd\n",
    "import numpy as np\n",
    "import sklearn\n",
    "import matplotlib.pyplot as plt\n",
    "import seaborn as sns\n",
    "from io import StringIO\n",
    "from scipy import stats\n"
   ]
  },
  {
   "cell_type": "code",
   "execution_count": null,
   "id": "32f4bd69",
   "metadata": {},
   "outputs": [],
   "source": [
    "# =============================================\n",
    "# ---\n",
    "# ============================================="
   ]
  },
  {
   "cell_type": "markdown",
   "id": "bd7d563c",
   "metadata": {},
   "source": [
    "4) Mini Project\n",
    "Find some text data of your own choice, it could be labelled tweets, etc. \n",
    "Your dataset should have at least 200 instances, and if there are several columns of text, you can choose to merge the text columns into a single text column. Each text instance should have at least 60 words. \n",
    "Clean the data, split the data, transform the data to a representation suitable for your algorithm, build your model and evaluate the model. Tune some parameters of interest and write a short report about what problem your mini project is trying to address, the description of your data, the choice of algorithm used, the performance of your algorithm, overfitting, the choice of hyperparameters tunned, then your recommendation or conclusion (imagine you were trying to recommend this algorithm to a stakeholder, and you need this report to include important and persuasive elements). Your report could be in one or two paragraphs and should include relevant code and output at the end."
   ]
  },
  {
   "cell_type": "code",
   "execution_count": 60,
   "id": "a43522fc",
   "metadata": {},
   "outputs": [],
   "source": [
    "# !!!?!!!"
   ]
  },
  {
   "cell_type": "markdown",
   "id": "32bb17c8",
   "metadata": {},
   "source": [
    "Can a wine reviewer's description predict if the wine will be rated at more than 92 points?\n",
    "\n",
    "Dataset:  https://www.kaggle.com/zynicide/wine-reviews?select=winemag-data-130k-v2.csv.  \"Wine Reviews: 130k wine reviews with variety, location, winery, price, and description\""
   ]
  },
  {
   "cell_type": "code",
   "execution_count": 61,
   "id": "3834142f",
   "metadata": {},
   "outputs": [],
   "source": [
    "# ==========================="
   ]
  },
  {
   "cell_type": "markdown",
   "id": "42ba5a26",
   "metadata": {},
   "source": [
    "A certain member of my household (my wife) is a big fan of fine wines, carefully reads wine reviews from a variety of sources and frequently bases her purchases on the rating points assigned.  The descriptions accompanying the ratings frequently use language that only a wine drinker would understand.  Can the words used by a reviewer to describe a wine accurately predict the rating points that it recieves?\n",
    "\n",
    "\n",
    "This dataset is made up of data from Wine Magazine, compiled by \"zackthoutt\" and made available via \"Kaggle\". The full dataset has over 130,000 records with 25 columns of information.  For this 'mini-project' 300 records with 60+ words in the description were pulled, along with the points assigned, regardless of wine variety, region, winery, points, etc.  After the records were pulled from the file, the rating points were binned into \"less than 92\" rating (False) and \"greater than or equal to 92\" rating (True).  The description field was cleaned of stop words and punctuation, and the tfidfVectorizer was then used to prep the data.  A multinomial Naive Bayes classifier was used on the vectorized words to determine if the description could predict ratings greater than or less than 92 points.\n",
    "\n",
    "With the default settings for the vectorizer and for the multinomialNB, the Accuracy score was 80% for the training data and 70% for the test data - meaning the model predicted the correct rating range 76% of the time on the undeen data, which is much better than a coin flip. (NOTE:  Each time the cells below are rerun, the results change slightly due to the small number of records being used, and the 70/30 train/test split.  Apologies if the numbers are slightly different in the code.)  After hyper-tuning parameters max_features, min_df': 5, ngram_range' and use_idf, the results improved to 83% accuracy for the test data.\n",
    "\n",
    "Given the small amount of data used, these results are quite promising.  Wine ratings are highly subjective, but the use of a multinomial Naive Bayes model approach to predict ratings performed well.  The next step would be to attempt to predict the actual numeric points rating with a regression model with a much larger set of data.  \n",
    "\n",
    "All the code and analysis is below:"
   ]
  },
  {
   "cell_type": "code",
   "execution_count": 62,
   "id": "a22303d9",
   "metadata": {},
   "outputs": [],
   "source": [
    "# ==========================="
   ]
  },
  {
   "cell_type": "code",
   "execution_count": 63,
   "id": "bf7b2508",
   "metadata": {},
   "outputs": [],
   "source": [
    "# Large file!  \n",
    "\n",
    "wr = pd.read_csv(\"winemag-data_first150k.csv\")"
   ]
  },
  {
   "cell_type": "code",
   "execution_count": 64,
   "id": "1d127c2f",
   "metadata": {},
   "outputs": [
    {
     "data": {
      "text/html": [
       "<div>\n",
       "<style scoped>\n",
       "    .dataframe tbody tr th:only-of-type {\n",
       "        vertical-align: middle;\n",
       "    }\n",
       "\n",
       "    .dataframe tbody tr th {\n",
       "        vertical-align: top;\n",
       "    }\n",
       "\n",
       "    .dataframe thead th {\n",
       "        text-align: right;\n",
       "    }\n",
       "</style>\n",
       "<table border=\"1\" class=\"dataframe\">\n",
       "  <thead>\n",
       "    <tr style=\"text-align: right;\">\n",
       "      <th></th>\n",
       "      <th>Unnamed: 0</th>\n",
       "      <th>country</th>\n",
       "      <th>description</th>\n",
       "      <th>designation</th>\n",
       "      <th>points</th>\n",
       "      <th>price</th>\n",
       "      <th>province</th>\n",
       "      <th>region_1</th>\n",
       "      <th>region_2</th>\n",
       "      <th>variety</th>\n",
       "      <th>winery</th>\n",
       "    </tr>\n",
       "  </thead>\n",
       "  <tbody>\n",
       "    <tr>\n",
       "      <th>0</th>\n",
       "      <td>0</td>\n",
       "      <td>US</td>\n",
       "      <td>This tremendous 100% varietal wine hails from ...</td>\n",
       "      <td>Martha's Vineyard</td>\n",
       "      <td>96</td>\n",
       "      <td>235.0</td>\n",
       "      <td>California</td>\n",
       "      <td>Napa Valley</td>\n",
       "      <td>Napa</td>\n",
       "      <td>Cabernet Sauvignon</td>\n",
       "      <td>Heitz</td>\n",
       "    </tr>\n",
       "    <tr>\n",
       "      <th>1</th>\n",
       "      <td>1</td>\n",
       "      <td>Spain</td>\n",
       "      <td>Ripe aromas of fig, blackberry and cassis are ...</td>\n",
       "      <td>Carodorum Selección Especial Reserva</td>\n",
       "      <td>96</td>\n",
       "      <td>110.0</td>\n",
       "      <td>Northern Spain</td>\n",
       "      <td>Toro</td>\n",
       "      <td>NaN</td>\n",
       "      <td>Tinta de Toro</td>\n",
       "      <td>Bodega Carmen Rodríguez</td>\n",
       "    </tr>\n",
       "    <tr>\n",
       "      <th>2</th>\n",
       "      <td>2</td>\n",
       "      <td>US</td>\n",
       "      <td>Mac Watson honors the memory of a wine once ma...</td>\n",
       "      <td>Special Selected Late Harvest</td>\n",
       "      <td>96</td>\n",
       "      <td>90.0</td>\n",
       "      <td>California</td>\n",
       "      <td>Knights Valley</td>\n",
       "      <td>Sonoma</td>\n",
       "      <td>Sauvignon Blanc</td>\n",
       "      <td>Macauley</td>\n",
       "    </tr>\n",
       "    <tr>\n",
       "      <th>3</th>\n",
       "      <td>3</td>\n",
       "      <td>US</td>\n",
       "      <td>This spent 20 months in 30% new French oak, an...</td>\n",
       "      <td>Reserve</td>\n",
       "      <td>96</td>\n",
       "      <td>65.0</td>\n",
       "      <td>Oregon</td>\n",
       "      <td>Willamette Valley</td>\n",
       "      <td>Willamette Valley</td>\n",
       "      <td>Pinot Noir</td>\n",
       "      <td>Ponzi</td>\n",
       "    </tr>\n",
       "    <tr>\n",
       "      <th>4</th>\n",
       "      <td>4</td>\n",
       "      <td>France</td>\n",
       "      <td>This is the top wine from La Bégude, named aft...</td>\n",
       "      <td>La Brûlade</td>\n",
       "      <td>95</td>\n",
       "      <td>66.0</td>\n",
       "      <td>Provence</td>\n",
       "      <td>Bandol</td>\n",
       "      <td>NaN</td>\n",
       "      <td>Provence red blend</td>\n",
       "      <td>Domaine de la Bégude</td>\n",
       "    </tr>\n",
       "  </tbody>\n",
       "</table>\n",
       "</div>"
      ],
      "text/plain": [
       "   Unnamed: 0 country                                        description  \\\n",
       "0           0      US  This tremendous 100% varietal wine hails from ...   \n",
       "1           1   Spain  Ripe aromas of fig, blackberry and cassis are ...   \n",
       "2           2      US  Mac Watson honors the memory of a wine once ma...   \n",
       "3           3      US  This spent 20 months in 30% new French oak, an...   \n",
       "4           4  France  This is the top wine from La Bégude, named aft...   \n",
       "\n",
       "                            designation  points  price        province  \\\n",
       "0                     Martha's Vineyard      96  235.0      California   \n",
       "1  Carodorum Selección Especial Reserva      96  110.0  Northern Spain   \n",
       "2         Special Selected Late Harvest      96   90.0      California   \n",
       "3                               Reserve      96   65.0          Oregon   \n",
       "4                            La Brûlade      95   66.0        Provence   \n",
       "\n",
       "            region_1           region_2             variety  \\\n",
       "0        Napa Valley               Napa  Cabernet Sauvignon   \n",
       "1               Toro                NaN       Tinta de Toro   \n",
       "2     Knights Valley             Sonoma     Sauvignon Blanc   \n",
       "3  Willamette Valley  Willamette Valley          Pinot Noir   \n",
       "4             Bandol                NaN  Provence red blend   \n",
       "\n",
       "                    winery  \n",
       "0                    Heitz  \n",
       "1  Bodega Carmen Rodríguez  \n",
       "2                 Macauley  \n",
       "3                    Ponzi  \n",
       "4     Domaine de la Bégude  "
      ]
     },
     "execution_count": 64,
     "metadata": {},
     "output_type": "execute_result"
    }
   ],
   "source": [
    "wr.head(5)"
   ]
  },
  {
   "cell_type": "code",
   "execution_count": 66,
   "id": "a54172ec",
   "metadata": {},
   "outputs": [
    {
     "name": "stdout",
     "output_type": "stream",
     "text": [
      "<class 'pandas.core.frame.DataFrame'>\n",
      "RangeIndex: 150930 entries, 0 to 150929\n",
      "Data columns (total 11 columns):\n",
      " #   Column       Non-Null Count   Dtype  \n",
      "---  ------       --------------   -----  \n",
      " 0   Unnamed: 0   150930 non-null  int64  \n",
      " 1   country      150925 non-null  object \n",
      " 2   description  150930 non-null  object \n",
      " 3   designation  105195 non-null  object \n",
      " 4   points       150930 non-null  int64  \n",
      " 5   price        137235 non-null  float64\n",
      " 6   province     150925 non-null  object \n",
      " 7   region_1     125870 non-null  object \n",
      " 8   region_2     60953 non-null   object \n",
      " 9   variety      150930 non-null  object \n",
      " 10  winery       150930 non-null  object \n",
      "dtypes: float64(1), int64(2), object(8)\n",
      "memory usage: 12.7+ MB\n"
     ]
    }
   ],
   "source": [
    "wr.info()"
   ]
  },
  {
   "cell_type": "code",
   "execution_count": null,
   "id": "9abd88ad",
   "metadata": {},
   "outputs": [],
   "source": []
  },
  {
   "cell_type": "code",
   "execution_count": 67,
   "id": "b06e9063",
   "metadata": {},
   "outputs": [],
   "source": [
    "gr60 = wr[wr.description.str.count(' ') > 60]  # Should pull descriptions with more than 60 words"
   ]
  },
  {
   "cell_type": "code",
   "execution_count": 68,
   "id": "d1e42306",
   "metadata": {},
   "outputs": [
    {
     "name": "stdout",
     "output_type": "stream",
     "text": [
      "<class 'pandas.core.frame.DataFrame'>\n",
      "Int64Index: 6652 entries, 3 to 150927\n",
      "Data columns (total 11 columns):\n",
      " #   Column       Non-Null Count  Dtype  \n",
      "---  ------       --------------  -----  \n",
      " 0   Unnamed: 0   6652 non-null   int64  \n",
      " 1   country      6651 non-null   object \n",
      " 2   description  6652 non-null   object \n",
      " 3   designation  5156 non-null   object \n",
      " 4   points       6652 non-null   int64  \n",
      " 5   price        6515 non-null   float64\n",
      " 6   province     6651 non-null   object \n",
      " 7   region_1     5854 non-null   object \n",
      " 8   region_2     3936 non-null   object \n",
      " 9   variety      6652 non-null   object \n",
      " 10  winery       6652 non-null   object \n",
      "dtypes: float64(1), int64(2), object(8)\n",
      "memory usage: 623.6+ KB\n"
     ]
    }
   ],
   "source": [
    "gr60.info()  "
   ]
  },
  {
   "cell_type": "code",
   "execution_count": 69,
   "id": "2dad2e45",
   "metadata": {},
   "outputs": [],
   "source": [
    "# Still 6600+ records"
   ]
  },
  {
   "cell_type": "code",
   "execution_count": 70,
   "id": "e0ddc9b6",
   "metadata": {},
   "outputs": [
    {
     "data": {
      "text/html": [
       "<div>\n",
       "<style scoped>\n",
       "    .dataframe tbody tr th:only-of-type {\n",
       "        vertical-align: middle;\n",
       "    }\n",
       "\n",
       "    .dataframe tbody tr th {\n",
       "        vertical-align: top;\n",
       "    }\n",
       "\n",
       "    .dataframe thead th {\n",
       "        text-align: right;\n",
       "    }\n",
       "</style>\n",
       "<table border=\"1\" class=\"dataframe\">\n",
       "  <thead>\n",
       "    <tr style=\"text-align: right;\">\n",
       "      <th></th>\n",
       "      <th>Unnamed: 0</th>\n",
       "      <th>country</th>\n",
       "      <th>description</th>\n",
       "      <th>designation</th>\n",
       "      <th>points</th>\n",
       "      <th>price</th>\n",
       "      <th>province</th>\n",
       "      <th>region_1</th>\n",
       "      <th>region_2</th>\n",
       "      <th>variety</th>\n",
       "      <th>winery</th>\n",
       "    </tr>\n",
       "  </thead>\n",
       "  <tbody>\n",
       "    <tr>\n",
       "      <th>3</th>\n",
       "      <td>3</td>\n",
       "      <td>US</td>\n",
       "      <td>This spent 20 months in 30% new French oak, an...</td>\n",
       "      <td>Reserve</td>\n",
       "      <td>96</td>\n",
       "      <td>65.0</td>\n",
       "      <td>Oregon</td>\n",
       "      <td>Willamette Valley</td>\n",
       "      <td>Willamette Valley</td>\n",
       "      <td>Pinot Noir</td>\n",
       "      <td>Ponzi</td>\n",
       "    </tr>\n",
       "    <tr>\n",
       "      <th>4</th>\n",
       "      <td>4</td>\n",
       "      <td>France</td>\n",
       "      <td>This is the top wine from La Bégude, named aft...</td>\n",
       "      <td>La Brûlade</td>\n",
       "      <td>95</td>\n",
       "      <td>66.0</td>\n",
       "      <td>Provence</td>\n",
       "      <td>Bandol</td>\n",
       "      <td>NaN</td>\n",
       "      <td>Provence red blend</td>\n",
       "      <td>Domaine de la Bégude</td>\n",
       "    </tr>\n",
       "    <tr>\n",
       "      <th>14</th>\n",
       "      <td>14</td>\n",
       "      <td>US</td>\n",
       "      <td>With its sophisticated mix of mineral, acid an...</td>\n",
       "      <td>Grace Vineyard</td>\n",
       "      <td>95</td>\n",
       "      <td>185.0</td>\n",
       "      <td>Oregon</td>\n",
       "      <td>Dundee Hills</td>\n",
       "      <td>Willamette Valley</td>\n",
       "      <td>Pinot Noir</td>\n",
       "      <td>Domaine Serene</td>\n",
       "    </tr>\n",
       "    <tr>\n",
       "      <th>18</th>\n",
       "      <td>18</td>\n",
       "      <td>France</td>\n",
       "      <td>Coming from a seven-acre vineyard named after ...</td>\n",
       "      <td>Le Pigeonnier</td>\n",
       "      <td>95</td>\n",
       "      <td>290.0</td>\n",
       "      <td>Southwest France</td>\n",
       "      <td>Cahors</td>\n",
       "      <td>NaN</td>\n",
       "      <td>Malbec</td>\n",
       "      <td>Château Lagrézette</td>\n",
       "    </tr>\n",
       "    <tr>\n",
       "      <th>22</th>\n",
       "      <td>22</td>\n",
       "      <td>Spain</td>\n",
       "      <td>Tarry blackberry and cheesy oak aromas are app...</td>\n",
       "      <td>Termanthia</td>\n",
       "      <td>95</td>\n",
       "      <td>220.0</td>\n",
       "      <td>Northern Spain</td>\n",
       "      <td>Toro</td>\n",
       "      <td>NaN</td>\n",
       "      <td>Tinta de Toro</td>\n",
       "      <td>Numanthia</td>\n",
       "    </tr>\n",
       "  </tbody>\n",
       "</table>\n",
       "</div>"
      ],
      "text/plain": [
       "    Unnamed: 0 country                                        description  \\\n",
       "3            3      US  This spent 20 months in 30% new French oak, an...   \n",
       "4            4  France  This is the top wine from La Bégude, named aft...   \n",
       "14          14      US  With its sophisticated mix of mineral, acid an...   \n",
       "18          18  France  Coming from a seven-acre vineyard named after ...   \n",
       "22          22   Spain  Tarry blackberry and cheesy oak aromas are app...   \n",
       "\n",
       "       designation  points  price          province           region_1  \\\n",
       "3          Reserve      96   65.0            Oregon  Willamette Valley   \n",
       "4       La Brûlade      95   66.0          Provence             Bandol   \n",
       "14  Grace Vineyard      95  185.0            Oregon       Dundee Hills   \n",
       "18   Le Pigeonnier      95  290.0  Southwest France             Cahors   \n",
       "22      Termanthia      95  220.0    Northern Spain               Toro   \n",
       "\n",
       "             region_2             variety                winery  \n",
       "3   Willamette Valley          Pinot Noir                 Ponzi  \n",
       "4                 NaN  Provence red blend  Domaine de la Bégude  \n",
       "14  Willamette Valley          Pinot Noir        Domaine Serene  \n",
       "18                NaN              Malbec    Château Lagrézette  \n",
       "22                NaN       Tinta de Toro             Numanthia  "
      ]
     },
     "execution_count": 70,
     "metadata": {},
     "output_type": "execute_result"
    }
   ],
   "source": [
    "gr60.head(5)"
   ]
  },
  {
   "cell_type": "code",
   "execution_count": null,
   "id": "40c0486e",
   "metadata": {},
   "outputs": [],
   "source": []
  },
  {
   "cell_type": "code",
   "execution_count": 71,
   "id": "55f379f1",
   "metadata": {},
   "outputs": [],
   "source": [
    "wr_small = gr60.iloc[:300]\n",
    "wr_small = wr_small[['description', 'points']]"
   ]
  },
  {
   "cell_type": "code",
   "execution_count": 72,
   "id": "63ac2f81",
   "metadata": {},
   "outputs": [
    {
     "data": {
      "text/html": [
       "<div>\n",
       "<style scoped>\n",
       "    .dataframe tbody tr th:only-of-type {\n",
       "        vertical-align: middle;\n",
       "    }\n",
       "\n",
       "    .dataframe tbody tr th {\n",
       "        vertical-align: top;\n",
       "    }\n",
       "\n",
       "    .dataframe thead th {\n",
       "        text-align: right;\n",
       "    }\n",
       "</style>\n",
       "<table border=\"1\" class=\"dataframe\">\n",
       "  <thead>\n",
       "    <tr style=\"text-align: right;\">\n",
       "      <th></th>\n",
       "      <th>description</th>\n",
       "      <th>points</th>\n",
       "    </tr>\n",
       "  </thead>\n",
       "  <tbody>\n",
       "    <tr>\n",
       "      <th>3</th>\n",
       "      <td>This spent 20 months in 30% new French oak, an...</td>\n",
       "      <td>96</td>\n",
       "    </tr>\n",
       "    <tr>\n",
       "      <th>4</th>\n",
       "      <td>This is the top wine from La Bégude, named aft...</td>\n",
       "      <td>95</td>\n",
       "    </tr>\n",
       "    <tr>\n",
       "      <th>14</th>\n",
       "      <td>With its sophisticated mix of mineral, acid an...</td>\n",
       "      <td>95</td>\n",
       "    </tr>\n",
       "    <tr>\n",
       "      <th>18</th>\n",
       "      <td>Coming from a seven-acre vineyard named after ...</td>\n",
       "      <td>95</td>\n",
       "    </tr>\n",
       "    <tr>\n",
       "      <th>22</th>\n",
       "      <td>Tarry blackberry and cheesy oak aromas are app...</td>\n",
       "      <td>95</td>\n",
       "    </tr>\n",
       "    <tr>\n",
       "      <th>...</th>\n",
       "      <td>...</td>\n",
       "      <td>...</td>\n",
       "    </tr>\n",
       "    <tr>\n",
       "      <th>10800</th>\n",
       "      <td>This is a potent brew with complexities galore...</td>\n",
       "      <td>94</td>\n",
       "    </tr>\n",
       "    <tr>\n",
       "      <th>10801</th>\n",
       "      <td>Amazingly rich and voluptuous, this shows none...</td>\n",
       "      <td>94</td>\n",
       "    </tr>\n",
       "    <tr>\n",
       "      <th>10803</th>\n",
       "      <td>The last Altos that was this good came in 2004...</td>\n",
       "      <td>94</td>\n",
       "    </tr>\n",
       "    <tr>\n",
       "      <th>10805</th>\n",
       "      <td>The “X” designation refers to the number of cl...</td>\n",
       "      <td>94</td>\n",
       "    </tr>\n",
       "    <tr>\n",
       "      <th>10807</th>\n",
       "      <td>Napa Cabernets of this explosive power have th...</td>\n",
       "      <td>94</td>\n",
       "    </tr>\n",
       "  </tbody>\n",
       "</table>\n",
       "<p>300 rows × 2 columns</p>\n",
       "</div>"
      ],
      "text/plain": [
       "                                             description  points\n",
       "3      This spent 20 months in 30% new French oak, an...      96\n",
       "4      This is the top wine from La Bégude, named aft...      95\n",
       "14     With its sophisticated mix of mineral, acid an...      95\n",
       "18     Coming from a seven-acre vineyard named after ...      95\n",
       "22     Tarry blackberry and cheesy oak aromas are app...      95\n",
       "...                                                  ...     ...\n",
       "10800  This is a potent brew with complexities galore...      94\n",
       "10801  Amazingly rich and voluptuous, this shows none...      94\n",
       "10803  The last Altos that was this good came in 2004...      94\n",
       "10805  The “X” designation refers to the number of cl...      94\n",
       "10807  Napa Cabernets of this explosive power have th...      94\n",
       "\n",
       "[300 rows x 2 columns]"
      ]
     },
     "execution_count": 72,
     "metadata": {},
     "output_type": "execute_result"
    }
   ],
   "source": [
    "wr_small"
   ]
  },
  {
   "cell_type": "code",
   "execution_count": null,
   "id": "2f8457b1",
   "metadata": {},
   "outputs": [],
   "source": []
  },
  {
   "cell_type": "code",
   "execution_count": 73,
   "id": "bfded4fb",
   "metadata": {},
   "outputs": [
    {
     "data": {
      "text/html": [
       "<div>\n",
       "<style scoped>\n",
       "    .dataframe tbody tr th:only-of-type {\n",
       "        vertical-align: middle;\n",
       "    }\n",
       "\n",
       "    .dataframe tbody tr th {\n",
       "        vertical-align: top;\n",
       "    }\n",
       "\n",
       "    .dataframe thead th {\n",
       "        text-align: right;\n",
       "    }\n",
       "</style>\n",
       "<table border=\"1\" class=\"dataframe\">\n",
       "  <thead>\n",
       "    <tr style=\"text-align: right;\">\n",
       "      <th></th>\n",
       "      <th>points</th>\n",
       "    </tr>\n",
       "  </thead>\n",
       "  <tbody>\n",
       "    <tr>\n",
       "      <th>count</th>\n",
       "      <td>300.000000</td>\n",
       "    </tr>\n",
       "    <tr>\n",
       "      <th>mean</th>\n",
       "      <td>92.600000</td>\n",
       "    </tr>\n",
       "    <tr>\n",
       "      <th>std</th>\n",
       "      <td>2.612038</td>\n",
       "    </tr>\n",
       "    <tr>\n",
       "      <th>min</th>\n",
       "      <td>85.000000</td>\n",
       "    </tr>\n",
       "    <tr>\n",
       "      <th>25%</th>\n",
       "      <td>91.000000</td>\n",
       "    </tr>\n",
       "    <tr>\n",
       "      <th>50%</th>\n",
       "      <td>93.000000</td>\n",
       "    </tr>\n",
       "    <tr>\n",
       "      <th>75%</th>\n",
       "      <td>94.000000</td>\n",
       "    </tr>\n",
       "    <tr>\n",
       "      <th>max</th>\n",
       "      <td>99.000000</td>\n",
       "    </tr>\n",
       "  </tbody>\n",
       "</table>\n",
       "</div>"
      ],
      "text/plain": [
       "           points\n",
       "count  300.000000\n",
       "mean    92.600000\n",
       "std      2.612038\n",
       "min     85.000000\n",
       "25%     91.000000\n",
       "50%     93.000000\n",
       "75%     94.000000\n",
       "max     99.000000"
      ]
     },
     "execution_count": 73,
     "metadata": {},
     "output_type": "execute_result"
    }
   ],
   "source": [
    "wr_small.describe()"
   ]
  },
  {
   "cell_type": "code",
   "execution_count": 74,
   "id": "ea56a13d",
   "metadata": {},
   "outputs": [],
   "source": [
    "# This may be difficult since these wines are all fairly highly rated, with the average points at 92.6 points, and with the small number of records."
   ]
  },
  {
   "cell_type": "code",
   "execution_count": 75,
   "id": "883f9cc0",
   "metadata": {},
   "outputs": [
    {
     "data": {
      "text/plain": [
       "62     43\n",
       "65     32\n",
       "63     31\n",
       "64     31\n",
       "66     22\n",
       "68     20\n",
       "69     16\n",
       "70     14\n",
       "67     13\n",
       "71     10\n",
       "79      8\n",
       "75      6\n",
       "74      6\n",
       "73      5\n",
       "83      5\n",
       "72      5\n",
       "80      3\n",
       "82      3\n",
       "84      3\n",
       "78      3\n",
       "77      3\n",
       "76      3\n",
       "87      2\n",
       "89      2\n",
       "92      2\n",
       "81      1\n",
       "86      1\n",
       "90      1\n",
       "94      1\n",
       "97      1\n",
       "104     1\n",
       "110     1\n",
       "116     1\n",
       "120     1\n",
       "Name: description, dtype: int64"
      ]
     },
     "execution_count": 75,
     "metadata": {},
     "output_type": "execute_result"
    }
   ],
   "source": [
    "# double check the counts of the number of words in the description\n",
    "\n",
    "count = wr_small['description'].str.split().apply(len).value_counts()\n",
    "# count.index = count.index.astype(str) + ' words:'\n",
    "# # count.sort_index(inplace=True)\n",
    "# count.head(50)\n",
    "\n",
    "count"
   ]
  },
  {
   "cell_type": "code",
   "execution_count": 76,
   "id": "4e2cb442",
   "metadata": {},
   "outputs": [],
   "source": [
    "# Looks OK"
   ]
  },
  {
   "cell_type": "code",
   "execution_count": null,
   "id": "6485e0ed",
   "metadata": {},
   "outputs": [],
   "source": []
  },
  {
   "cell_type": "code",
   "execution_count": 77,
   "id": "0750fecf",
   "metadata": {},
   "outputs": [],
   "source": [
    "# Now I need to split the reviews into < 92 and >= 92 buckets.  I do it with Bools - 0 for false, 1 for true\n",
    "\n",
    "wr_small[\"Bool_rate\"] = (wr_small['points'] >= 92).astype(int)"
   ]
  },
  {
   "cell_type": "code",
   "execution_count": 78,
   "id": "ed8dc718",
   "metadata": {},
   "outputs": [
    {
     "data": {
      "text/html": [
       "<div>\n",
       "<style scoped>\n",
       "    .dataframe tbody tr th:only-of-type {\n",
       "        vertical-align: middle;\n",
       "    }\n",
       "\n",
       "    .dataframe tbody tr th {\n",
       "        vertical-align: top;\n",
       "    }\n",
       "\n",
       "    .dataframe thead th {\n",
       "        text-align: right;\n",
       "    }\n",
       "</style>\n",
       "<table border=\"1\" class=\"dataframe\">\n",
       "  <thead>\n",
       "    <tr style=\"text-align: right;\">\n",
       "      <th></th>\n",
       "      <th>description</th>\n",
       "      <th>points</th>\n",
       "      <th>Bool_rate</th>\n",
       "    </tr>\n",
       "  </thead>\n",
       "  <tbody>\n",
       "    <tr>\n",
       "      <th>3</th>\n",
       "      <td>This spent 20 months in 30% new French oak, an...</td>\n",
       "      <td>96</td>\n",
       "      <td>1</td>\n",
       "    </tr>\n",
       "    <tr>\n",
       "      <th>4</th>\n",
       "      <td>This is the top wine from La Bégude, named aft...</td>\n",
       "      <td>95</td>\n",
       "      <td>1</td>\n",
       "    </tr>\n",
       "    <tr>\n",
       "      <th>14</th>\n",
       "      <td>With its sophisticated mix of mineral, acid an...</td>\n",
       "      <td>95</td>\n",
       "      <td>1</td>\n",
       "    </tr>\n",
       "    <tr>\n",
       "      <th>18</th>\n",
       "      <td>Coming from a seven-acre vineyard named after ...</td>\n",
       "      <td>95</td>\n",
       "      <td>1</td>\n",
       "    </tr>\n",
       "    <tr>\n",
       "      <th>22</th>\n",
       "      <td>Tarry blackberry and cheesy oak aromas are app...</td>\n",
       "      <td>95</td>\n",
       "      <td>1</td>\n",
       "    </tr>\n",
       "    <tr>\n",
       "      <th>141</th>\n",
       "      <td>A sublime twist of citrus lies at the heart of...</td>\n",
       "      <td>90</td>\n",
       "      <td>0</td>\n",
       "    </tr>\n",
       "    <tr>\n",
       "      <th>161</th>\n",
       "      <td>A blend of fruit from three Rogue Valley sites...</td>\n",
       "      <td>89</td>\n",
       "      <td>0</td>\n",
       "    </tr>\n",
       "    <tr>\n",
       "      <th>227</th>\n",
       "      <td>Chris Gorman is the winemaker for this pure, o...</td>\n",
       "      <td>93</td>\n",
       "      <td>1</td>\n",
       "    </tr>\n",
       "    <tr>\n",
       "      <th>230</th>\n",
       "      <td>Somewhat light in color, this is an aromatical...</td>\n",
       "      <td>93</td>\n",
       "      <td>1</td>\n",
       "    </tr>\n",
       "    <tr>\n",
       "      <th>293</th>\n",
       "      <td>This is a gigantic Syrah, a tsunami of blackbe...</td>\n",
       "      <td>91</td>\n",
       "      <td>0</td>\n",
       "    </tr>\n",
       "  </tbody>\n",
       "</table>\n",
       "</div>"
      ],
      "text/plain": [
       "                                           description  points  Bool_rate\n",
       "3    This spent 20 months in 30% new French oak, an...      96          1\n",
       "4    This is the top wine from La Bégude, named aft...      95          1\n",
       "14   With its sophisticated mix of mineral, acid an...      95          1\n",
       "18   Coming from a seven-acre vineyard named after ...      95          1\n",
       "22   Tarry blackberry and cheesy oak aromas are app...      95          1\n",
       "141  A sublime twist of citrus lies at the heart of...      90          0\n",
       "161  A blend of fruit from three Rogue Valley sites...      89          0\n",
       "227  Chris Gorman is the winemaker for this pure, o...      93          1\n",
       "230  Somewhat light in color, this is an aromatical...      93          1\n",
       "293  This is a gigantic Syrah, a tsunami of blackbe...      91          0"
      ]
     },
     "execution_count": 78,
     "metadata": {},
     "output_type": "execute_result"
    }
   ],
   "source": [
    "wr_small.head(10)"
   ]
  },
  {
   "cell_type": "code",
   "execution_count": null,
   "id": "33631b69",
   "metadata": {},
   "outputs": [],
   "source": []
  },
  {
   "cell_type": "code",
   "execution_count": 79,
   "id": "d83a9753",
   "metadata": {},
   "outputs": [],
   "source": [
    "# Proceed with some analysis.  I'll use the \"clean\" function from above."
   ]
  },
  {
   "cell_type": "code",
   "execution_count": 80,
   "id": "d4f59b71",
   "metadata": {},
   "outputs": [],
   "source": [
    "wr_small[\"description\"] = wr_small[\"description\"].apply(clean, stopwords = sw)"
   ]
  },
  {
   "cell_type": "code",
   "execution_count": 81,
   "id": "81b3fe32",
   "metadata": {},
   "outputs": [
    {
     "data": {
      "text/html": [
       "<div>\n",
       "<style scoped>\n",
       "    .dataframe tbody tr th:only-of-type {\n",
       "        vertical-align: middle;\n",
       "    }\n",
       "\n",
       "    .dataframe tbody tr th {\n",
       "        vertical-align: top;\n",
       "    }\n",
       "\n",
       "    .dataframe thead th {\n",
       "        text-align: right;\n",
       "    }\n",
       "</style>\n",
       "<table border=\"1\" class=\"dataframe\">\n",
       "  <thead>\n",
       "    <tr style=\"text-align: right;\">\n",
       "      <th></th>\n",
       "      <th>description</th>\n",
       "      <th>points</th>\n",
       "      <th>Bool_rate</th>\n",
       "    </tr>\n",
       "  </thead>\n",
       "  <tbody>\n",
       "    <tr>\n",
       "      <th>3</th>\n",
       "      <td>spent 20 months 30 new french oak incorporates...</td>\n",
       "      <td>96</td>\n",
       "      <td>1</td>\n",
       "    </tr>\n",
       "    <tr>\n",
       "      <th>4</th>\n",
       "      <td>top wine la bégude named highest point vineyar...</td>\n",
       "      <td>95</td>\n",
       "      <td>1</td>\n",
       "    </tr>\n",
       "    <tr>\n",
       "      <th>14</th>\n",
       "      <td>sophisticated mix mineral acid tart fruits sed...</td>\n",
       "      <td>95</td>\n",
       "      <td>1</td>\n",
       "    </tr>\n",
       "    <tr>\n",
       "      <th>18</th>\n",
       "      <td>coming seven-acre vineyard named dovecote prop...</td>\n",
       "      <td>95</td>\n",
       "      <td>1</td>\n",
       "    </tr>\n",
       "    <tr>\n",
       "      <th>22</th>\n",
       "      <td>tarry blackberry cheesy oak aromas appropriate...</td>\n",
       "      <td>95</td>\n",
       "      <td>1</td>\n",
       "    </tr>\n",
       "  </tbody>\n",
       "</table>\n",
       "</div>"
      ],
      "text/plain": [
       "                                          description  points  Bool_rate\n",
       "3   spent 20 months 30 new french oak incorporates...      96          1\n",
       "4   top wine la bégude named highest point vineyar...      95          1\n",
       "14  sophisticated mix mineral acid tart fruits sed...      95          1\n",
       "18  coming seven-acre vineyard named dovecote prop...      95          1\n",
       "22  tarry blackberry cheesy oak aromas appropriate...      95          1"
      ]
     },
     "execution_count": 81,
     "metadata": {},
     "output_type": "execute_result"
    }
   ],
   "source": [
    "wr_small.head()"
   ]
  },
  {
   "cell_type": "code",
   "execution_count": null,
   "id": "36db75e3",
   "metadata": {},
   "outputs": [],
   "source": []
  },
  {
   "cell_type": "code",
   "execution_count": 82,
   "id": "817219a3",
   "metadata": {},
   "outputs": [],
   "source": [
    "# Split the data\n",
    "\n",
    "X_train, X_test, y_train, y_test=train_test_split(wr_small[\"description\"], wr_small[\"Bool_rate\"], test_size=0.3)"
   ]
  },
  {
   "cell_type": "code",
   "execution_count": 83,
   "id": "627ae55e",
   "metadata": {},
   "outputs": [],
   "source": [
    "tfidf=TfidfVectorizer(ngram_range=(1,2), stop_words=\"english\", min_df=10, max_features=None)\n",
    "X_train_tfidf=tfidf.fit_transform(X_train)"
   ]
  },
  {
   "cell_type": "code",
   "execution_count": 84,
   "id": "a018fb2c",
   "metadata": {},
   "outputs": [
    {
     "data": {
      "text/plain": [
       "array([1, 1, 1, 0, 1, 0, 0, 1, 1, 1, 1, 1, 1, 1, 1, 1, 1, 1, 1, 1, 1, 1,\n",
       "       1, 1, 1, 1, 1, 1, 1, 1, 1, 1, 1, 1, 1, 0, 1, 1, 1, 1, 1, 1, 0, 1,\n",
       "       1, 1, 1, 1, 0, 0, 0, 1, 1, 1, 1, 1, 0, 1, 1, 1, 1, 1, 1, 1, 1, 1,\n",
       "       1, 1, 1, 1, 1, 1, 0, 1, 1, 1, 0, 1, 1, 1, 1, 1, 0, 1, 1, 0, 1, 1,\n",
       "       1, 1, 1, 0, 1, 1, 1, 1, 1, 0, 1, 1, 1, 1, 1, 1, 1, 1, 1, 1, 1, 0,\n",
       "       1, 0, 1, 1, 1, 1, 1, 1, 1, 1, 1, 1, 1, 1, 1, 1, 1, 1, 1, 1, 0, 1,\n",
       "       0, 1, 1, 1, 1, 1, 1, 1, 1, 1, 1, 0, 1, 1, 1, 1, 1, 1, 0, 1, 1, 1,\n",
       "       1, 0, 1, 1, 1, 0, 1, 1, 1, 1, 1, 0, 0, 1, 1, 1, 1, 1, 1, 1, 1, 1,\n",
       "       1, 1, 1, 0, 1, 1, 1, 0, 1, 1, 0, 1, 1, 0, 1, 1, 1, 1, 1, 0, 1, 1,\n",
       "       1, 1, 1, 1, 1, 1, 1, 1, 1, 1, 1, 1])"
      ]
     },
     "execution_count": 84,
     "metadata": {},
     "output_type": "execute_result"
    }
   ],
   "source": [
    "clf=MultinomialNB()\n",
    "clf=clf.fit(X_train_tfidf, y_train)\n",
    "clf.predict(X_train_tfidf)"
   ]
  },
  {
   "cell_type": "code",
   "execution_count": 85,
   "id": "a45b592b",
   "metadata": {},
   "outputs": [
    {
     "data": {
      "text/plain": [
       "0.8047619047619048"
      ]
     },
     "execution_count": 85,
     "metadata": {},
     "output_type": "execute_result"
    }
   ],
   "source": [
    "clf.score(X_train_tfidf, y_train)"
   ]
  },
  {
   "cell_type": "code",
   "execution_count": 86,
   "id": "fe711d24",
   "metadata": {},
   "outputs": [
    {
     "name": "stdout",
     "output_type": "stream",
     "text": [
      "Accuracy on Train set:  0.8047619047619048\n"
     ]
    }
   ],
   "source": [
    "y_pred_train = clf.predict(X_train_tfidf)\n",
    "print(\"Accuracy on Train set: \", accuracy_score(y_train, y_pred_train))"
   ]
  },
  {
   "cell_type": "code",
   "execution_count": 87,
   "id": "c2490be6",
   "metadata": {},
   "outputs": [
    {
     "name": "stdout",
     "output_type": "stream",
     "text": [
      "Accuracy on Test set:  0.7\n"
     ]
    }
   ],
   "source": [
    "# 80%. On the Test data?\n",
    "\n",
    "X_test_tfidf=tfidf.fit_transform(X_test)\n",
    "clf=clf.fit(X_test_tfidf, y_test)\n",
    "y_pred_test = clf.predict(X_test_tfidf)\n",
    "print(\"Accuracy on Test set: \", accuracy_score(y_test, y_pred_test))"
   ]
  },
  {
   "cell_type": "code",
   "execution_count": 88,
   "id": "85e197be",
   "metadata": {},
   "outputs": [],
   "source": [
    "# 70% accurate results.  I'm actually fairly impressed that it can be that accurate, given the quite subjective topic."
   ]
  },
  {
   "cell_type": "code",
   "execution_count": null,
   "id": "fd7e14cb",
   "metadata": {},
   "outputs": [],
   "source": []
  },
  {
   "cell_type": "code",
   "execution_count": 89,
   "id": "56a73419",
   "metadata": {},
   "outputs": [
    {
     "data": {
      "text/plain": [
       "GridSearchCV(cv=5,\n",
       "             estimator=Pipeline(steps=[('tfidf',\n",
       "                                        TfidfVectorizer(stop_words='english')),\n",
       "                                       ('nb', MultinomialNB())]),\n",
       "             n_jobs=-1,\n",
       "             param_grid=[{'tfidf__max_features': (None, 5000, 10000),\n",
       "                          'tfidf__min_df': [5, 20],\n",
       "                          'tfidf__ngram_range': [(1, 1), (1, 2), (1, 3), (1, 5),\n",
       "                                                 (1, 7)],\n",
       "                          'tfidf__use_idf': (True, False)}])"
      ]
     },
     "execution_count": 89,
     "metadata": {},
     "output_type": "execute_result"
    }
   ],
   "source": [
    "# Try some parameter tuning.\n",
    "\n",
    "pipe = Pipeline([(\"tfidf\",TfidfVectorizer(stop_words = \"english\")), (\"nb\", MultinomialNB())])\n",
    "param_grid = [{\"tfidf__min_df\":[5, 20], \n",
    "               \"tfidf__ngram_range\":[(1, 1), (1, 2), (1, 3), (1, 5), (1, 7)],\n",
    "               \"tfidf__use_idf\": (True, False),  \n",
    "               \"tfidf__max_features\": (None, 5000, 10000)}]\n",
    "grid = GridSearchCV(estimator = pipe, param_grid = param_grid, cv = 5, n_jobs = -1)\n",
    "grid.fit(X_train, y_train)"
   ]
  },
  {
   "cell_type": "code",
   "execution_count": 90,
   "id": "16cbced8",
   "metadata": {},
   "outputs": [
    {
     "data": {
      "text/plain": [
       "{'tfidf__max_features': None,\n",
       " 'tfidf__min_df': 5,\n",
       " 'tfidf__ngram_range': (1, 2),\n",
       " 'tfidf__use_idf': True}"
      ]
     },
     "execution_count": 90,
     "metadata": {},
     "output_type": "execute_result"
    }
   ],
   "source": [
    "grid.best_params_"
   ]
  },
  {
   "cell_type": "code",
   "execution_count": 91,
   "id": "c4d98532",
   "metadata": {},
   "outputs": [],
   "source": [
    "# See if that helps.  max_features: None is a default, as is use_idf: True"
   ]
  },
  {
   "cell_type": "code",
   "execution_count": 92,
   "id": "2229efc0",
   "metadata": {},
   "outputs": [
    {
     "data": {
      "text/plain": [
       "0.861904761904762"
      ]
     },
     "execution_count": 92,
     "metadata": {},
     "output_type": "execute_result"
    }
   ],
   "source": [
    "tfidf=TfidfVectorizer(ngram_range=(1,2), stop_words=\"english\", min_df=5, max_features=None)\n",
    "X_train_tfidf=tfidf.fit_transform(X_train)\n",
    "\n",
    "clf=MultinomialNB()\n",
    "clf=clf.fit(X_train_tfidf, y_train)\n",
    "clf.predict(X_train_tfidf)\n",
    "\n",
    "clf.score(X_train_tfidf, y_train)"
   ]
  },
  {
   "cell_type": "code",
   "execution_count": 93,
   "id": "75471e6c",
   "metadata": {},
   "outputs": [
    {
     "name": "stdout",
     "output_type": "stream",
     "text": [
      "Accuracy on Test set:  0.8333333333333334\n"
     ]
    }
   ],
   "source": [
    "# and the Test data?\n",
    "\n",
    "X_test_tfidf=tfidf.fit_transform(X_test)\n",
    "clf=clf.fit(X_test_tfidf, y_test)\n",
    "y_pred_test = clf.predict(X_test_tfidf)\n",
    "print(\"Accuracy on Test set: \", accuracy_score(y_test, y_pred_test))"
   ]
  },
  {
   "cell_type": "code",
   "execution_count": 94,
   "id": "76739d40",
   "metadata": {},
   "outputs": [],
   "source": [
    "# Well, look at that.  Tuning helped the results on both the Training and the Test data."
   ]
  },
  {
   "cell_type": "markdown",
   "id": "83b1330a",
   "metadata": {},
   "source": [
    "Tuned Results. 86% accuracy on the Training data, and 83% accuracy on the Test data.\n",
    "\n",
    "\n",
    "NOTE!!!  Since the dataset is small, each time I reran the Mini-project cells, I got slightly different results, based on the train data selected - including on the hyper-tuned params.  (Specifically, ngram_range changed between (1,2) and (1,3).)  Apologies if the numbers are a bit different.\n"
   ]
  }
 ],
 "metadata": {
  "kernelspec": {
   "display_name": "Python 3",
   "language": "python",
   "name": "python3"
  },
  "language_info": {
   "codemirror_mode": {
    "name": "ipython",
    "version": 3
   },
   "file_extension": ".py",
   "mimetype": "text/x-python",
   "name": "python",
   "nbconvert_exporter": "python",
   "pygments_lexer": "ipython3",
   "version": "3.9.4"
  }
 },
 "nbformat": 4,
 "nbformat_minor": 5
}
