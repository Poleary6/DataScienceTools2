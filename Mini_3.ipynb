{
 "cells": [
  {
   "cell_type": "markdown",
   "id": "a65bae79",
   "metadata": {},
   "source": [
    "Paul O'Leary\n",
    "\n",
    "Comp 4448\n",
    "\n",
    "July 19, 2021\n",
    "\n",
    "MINI-Project FROM Assignment 3"
   ]
  },
  {
   "cell_type": "code",
   "execution_count": 1,
   "id": "e41ba406",
   "metadata": {},
   "outputs": [],
   "source": [
    "# Import the usual suspects\n",
    "\n",
    "import numpy as np\n",
    "import pandas as pd\n",
    "import sklearn\n",
    "import matplotlib.pyplot as plt\n",
    "import seaborn as sns"
   ]
  },
  {
   "cell_type": "code",
   "execution_count": null,
   "id": "55715d7f",
   "metadata": {},
   "outputs": [],
   "source": []
  },
  {
   "cell_type": "markdown",
   "id": "a669423c",
   "metadata": {},
   "source": [
    "Mini Project"
   ]
  },
  {
   "cell_type": "code",
   "execution_count": null,
   "id": "d4d3313d",
   "metadata": {},
   "outputs": [],
   "source": []
  },
  {
   "cell_type": "code",
   "execution_count": 2,
   "id": "38f4d873",
   "metadata": {},
   "outputs": [],
   "source": [
    "# Survival from Malignant Melanoma, based on Age, Sex, and indicator of ulceration."
   ]
  },
  {
   "cell_type": "markdown",
   "id": "e7acdf1a",
   "metadata": {},
   "source": [
    "Survival from Malignant Melanoma\n",
    "Description\n",
    "The melanoma data frame has 205 rows and 7 columns.\n",
    "\n",
    "The data consist of measurements made on patients with malignant melanoma. Each patient had their tumour removed by surgery at the Department of Plastic Surgery, University Hospital of Odense, Denmark during the period 1962 to 1977. The surgery consisted of complete removal of the tumour together with about 2.5cm of the surrounding skin. Among the measurements taken were the thickness of the tumour and whether it was ulcerated or not. These are thought to be important prognostic variables in that patients with a thick and/or ulcerated tumour have an increased chance of death from melanoma. Patients were followed until the end of 1977.\n",
    "\n",
    "Usage\n",
    "melanoma\n",
    "Format\n",
    "This data frame contains the following columns:\n",
    "\n",
    "time\n",
    "Survival time in days since the operation, possibly censored.\n",
    "\n",
    "status\n",
    "The patients status at the end of the study. 1 indicates that they had died from melanoma, 2 indicates that they were still alive and 3 indicates that they had died from causes unrelated to their melanoma.\n",
    "\n",
    "sex\n",
    "The patients sex; 1=male, 0=female.\n",
    "\n",
    "age\n",
    "Age in years at the time of the operation.\n",
    "\n",
    "year\n",
    "Year of operation.\n",
    "\n",
    "thickness\n",
    "Tumour thickness in mm.\n",
    "\n",
    "ulcer\n",
    "Indicator of ulceration; 1=present, 0=absent.\n",
    "\n",
    "Source\n",
    "The data were obtained from\n",
    "\n",
    "Andersen, P.K., Borgan, O., Gill, R.D. and Keiding, N. (1993) Statistical Models Based on Counting Processes. Springer-Verlag."
   ]
  },
  {
   "cell_type": "code",
   "execution_count": 4,
   "id": "0b7d49f0",
   "metadata": {},
   "outputs": [],
   "source": [
    "data = pd.read_csv(\"melanoma.csv\")"
   ]
  },
  {
   "cell_type": "code",
   "execution_count": 97,
   "id": "2ddc22a3",
   "metadata": {},
   "outputs": [
    {
     "data": {
      "text/html": [
       "<div>\n",
       "<style scoped>\n",
       "    .dataframe tbody tr th:only-of-type {\n",
       "        vertical-align: middle;\n",
       "    }\n",
       "\n",
       "    .dataframe tbody tr th {\n",
       "        vertical-align: top;\n",
       "    }\n",
       "\n",
       "    .dataframe thead th {\n",
       "        text-align: right;\n",
       "    }\n",
       "</style>\n",
       "<table border=\"1\" class=\"dataframe\">\n",
       "  <thead>\n",
       "    <tr style=\"text-align: right;\">\n",
       "      <th></th>\n",
       "      <th>Unnamed: 0</th>\n",
       "      <th>time</th>\n",
       "      <th>status</th>\n",
       "      <th>sex</th>\n",
       "      <th>age</th>\n",
       "      <th>year</th>\n",
       "      <th>thickness</th>\n",
       "      <th>ulcer</th>\n",
       "    </tr>\n",
       "  </thead>\n",
       "  <tbody>\n",
       "    <tr>\n",
       "      <th>0</th>\n",
       "      <td>1</td>\n",
       "      <td>10</td>\n",
       "      <td>3</td>\n",
       "      <td>1</td>\n",
       "      <td>76</td>\n",
       "      <td>1972</td>\n",
       "      <td>6.76</td>\n",
       "      <td>1</td>\n",
       "    </tr>\n",
       "    <tr>\n",
       "      <th>1</th>\n",
       "      <td>2</td>\n",
       "      <td>30</td>\n",
       "      <td>3</td>\n",
       "      <td>1</td>\n",
       "      <td>56</td>\n",
       "      <td>1968</td>\n",
       "      <td>0.65</td>\n",
       "      <td>0</td>\n",
       "    </tr>\n",
       "    <tr>\n",
       "      <th>2</th>\n",
       "      <td>3</td>\n",
       "      <td>35</td>\n",
       "      <td>2</td>\n",
       "      <td>1</td>\n",
       "      <td>41</td>\n",
       "      <td>1977</td>\n",
       "      <td>1.34</td>\n",
       "      <td>0</td>\n",
       "    </tr>\n",
       "    <tr>\n",
       "      <th>3</th>\n",
       "      <td>4</td>\n",
       "      <td>99</td>\n",
       "      <td>3</td>\n",
       "      <td>0</td>\n",
       "      <td>71</td>\n",
       "      <td>1968</td>\n",
       "      <td>2.90</td>\n",
       "      <td>0</td>\n",
       "    </tr>\n",
       "    <tr>\n",
       "      <th>4</th>\n",
       "      <td>5</td>\n",
       "      <td>185</td>\n",
       "      <td>1</td>\n",
       "      <td>1</td>\n",
       "      <td>52</td>\n",
       "      <td>1965</td>\n",
       "      <td>12.08</td>\n",
       "      <td>1</td>\n",
       "    </tr>\n",
       "    <tr>\n",
       "      <th>5</th>\n",
       "      <td>6</td>\n",
       "      <td>204</td>\n",
       "      <td>1</td>\n",
       "      <td>1</td>\n",
       "      <td>28</td>\n",
       "      <td>1971</td>\n",
       "      <td>4.84</td>\n",
       "      <td>1</td>\n",
       "    </tr>\n",
       "    <tr>\n",
       "      <th>6</th>\n",
       "      <td>7</td>\n",
       "      <td>210</td>\n",
       "      <td>1</td>\n",
       "      <td>1</td>\n",
       "      <td>77</td>\n",
       "      <td>1972</td>\n",
       "      <td>5.16</td>\n",
       "      <td>1</td>\n",
       "    </tr>\n",
       "  </tbody>\n",
       "</table>\n",
       "</div>"
      ],
      "text/plain": [
       "   Unnamed: 0  time  status  sex  age  year  thickness  ulcer\n",
       "0           1    10       3    1   76  1972       6.76      1\n",
       "1           2    30       3    1   56  1968       0.65      0\n",
       "2           3    35       2    1   41  1977       1.34      0\n",
       "3           4    99       3    0   71  1968       2.90      0\n",
       "4           5   185       1    1   52  1965      12.08      1\n",
       "5           6   204       1    1   28  1971       4.84      1\n",
       "6           7   210       1    1   77  1972       5.16      1"
      ]
     },
     "execution_count": 97,
     "metadata": {},
     "output_type": "execute_result"
    }
   ],
   "source": [
    "data.head(7)"
   ]
  },
  {
   "cell_type": "markdown",
   "id": "4071d0d7",
   "metadata": {},
   "source": [
    "a.  Cleanup"
   ]
  },
  {
   "cell_type": "code",
   "execution_count": 72,
   "id": "e00ec69c",
   "metadata": {},
   "outputs": [
    {
     "name": "stdout",
     "output_type": "stream",
     "text": [
      "<class 'pandas.core.frame.DataFrame'>\n",
      "RangeIndex: 205 entries, 0 to 204\n",
      "Data columns (total 8 columns):\n",
      " #   Column      Non-Null Count  Dtype  \n",
      "---  ------      --------------  -----  \n",
      " 0   Unnamed: 0  205 non-null    int64  \n",
      " 1   time        205 non-null    int64  \n",
      " 2   status      205 non-null    int64  \n",
      " 3   sex         205 non-null    int64  \n",
      " 4   age         205 non-null    int64  \n",
      " 5   year        205 non-null    int64  \n",
      " 6   thickness   205 non-null    float64\n",
      " 7   ulcer       205 non-null    int64  \n",
      "dtypes: float64(1), int64(7)\n",
      "memory usage: 12.9 KB\n"
     ]
    }
   ],
   "source": [
    "data.info()"
   ]
  },
  {
   "cell_type": "code",
   "execution_count": 99,
   "id": "1440c16d",
   "metadata": {},
   "outputs": [],
   "source": [
    "# Not missing any data.\n",
    "\n",
    "# Let's only keep the columns to be used\n",
    "\n",
    "data = data[[\"sex\", \"age\", \"ulcer\", \"status\"]]"
   ]
  },
  {
   "cell_type": "code",
   "execution_count": 100,
   "id": "f778d652",
   "metadata": {},
   "outputs": [
    {
     "data": {
      "text/html": [
       "<div>\n",
       "<style scoped>\n",
       "    .dataframe tbody tr th:only-of-type {\n",
       "        vertical-align: middle;\n",
       "    }\n",
       "\n",
       "    .dataframe tbody tr th {\n",
       "        vertical-align: top;\n",
       "    }\n",
       "\n",
       "    .dataframe thead th {\n",
       "        text-align: right;\n",
       "    }\n",
       "</style>\n",
       "<table border=\"1\" class=\"dataframe\">\n",
       "  <thead>\n",
       "    <tr style=\"text-align: right;\">\n",
       "      <th></th>\n",
       "      <th>sex</th>\n",
       "      <th>age</th>\n",
       "      <th>ulcer</th>\n",
       "      <th>status</th>\n",
       "    </tr>\n",
       "  </thead>\n",
       "  <tbody>\n",
       "    <tr>\n",
       "      <th>0</th>\n",
       "      <td>1</td>\n",
       "      <td>76</td>\n",
       "      <td>1</td>\n",
       "      <td>3</td>\n",
       "    </tr>\n",
       "    <tr>\n",
       "      <th>1</th>\n",
       "      <td>1</td>\n",
       "      <td>56</td>\n",
       "      <td>0</td>\n",
       "      <td>3</td>\n",
       "    </tr>\n",
       "    <tr>\n",
       "      <th>2</th>\n",
       "      <td>1</td>\n",
       "      <td>41</td>\n",
       "      <td>0</td>\n",
       "      <td>2</td>\n",
       "    </tr>\n",
       "    <tr>\n",
       "      <th>3</th>\n",
       "      <td>0</td>\n",
       "      <td>71</td>\n",
       "      <td>0</td>\n",
       "      <td>3</td>\n",
       "    </tr>\n",
       "    <tr>\n",
       "      <th>4</th>\n",
       "      <td>1</td>\n",
       "      <td>52</td>\n",
       "      <td>1</td>\n",
       "      <td>1</td>\n",
       "    </tr>\n",
       "  </tbody>\n",
       "</table>\n",
       "</div>"
      ],
      "text/plain": [
       "   sex  age  ulcer  status\n",
       "0    1   76      1       3\n",
       "1    1   56      0       3\n",
       "2    1   41      0       2\n",
       "3    0   71      0       3\n",
       "4    1   52      1       1"
      ]
     },
     "execution_count": 100,
     "metadata": {},
     "output_type": "execute_result"
    }
   ],
   "source": [
    "data.head(5)"
   ]
  },
  {
   "cell_type": "markdown",
   "id": "046a34c8",
   "metadata": {},
   "source": [
    "For the purposes of this little study, I will change the statuses of 2 (Still alive) and 3 (Died of other causes) to be 2 (Did not die due to Melanoma)."
   ]
  },
  {
   "cell_type": "code",
   "execution_count": 102,
   "id": "c77a9a31",
   "metadata": {},
   "outputs": [
    {
     "data": {
      "text/html": [
       "<div>\n",
       "<style scoped>\n",
       "    .dataframe tbody tr th:only-of-type {\n",
       "        vertical-align: middle;\n",
       "    }\n",
       "\n",
       "    .dataframe tbody tr th {\n",
       "        vertical-align: top;\n",
       "    }\n",
       "\n",
       "    .dataframe thead th {\n",
       "        text-align: right;\n",
       "    }\n",
       "</style>\n",
       "<table border=\"1\" class=\"dataframe\">\n",
       "  <thead>\n",
       "    <tr style=\"text-align: right;\">\n",
       "      <th></th>\n",
       "      <th>sex</th>\n",
       "      <th>age</th>\n",
       "      <th>ulcer</th>\n",
       "      <th>status</th>\n",
       "    </tr>\n",
       "  </thead>\n",
       "  <tbody>\n",
       "    <tr>\n",
       "      <th>0</th>\n",
       "      <td>1</td>\n",
       "      <td>76</td>\n",
       "      <td>1</td>\n",
       "      <td>2</td>\n",
       "    </tr>\n",
       "    <tr>\n",
       "      <th>1</th>\n",
       "      <td>1</td>\n",
       "      <td>56</td>\n",
       "      <td>0</td>\n",
       "      <td>2</td>\n",
       "    </tr>\n",
       "    <tr>\n",
       "      <th>2</th>\n",
       "      <td>1</td>\n",
       "      <td>41</td>\n",
       "      <td>0</td>\n",
       "      <td>2</td>\n",
       "    </tr>\n",
       "    <tr>\n",
       "      <th>3</th>\n",
       "      <td>0</td>\n",
       "      <td>71</td>\n",
       "      <td>0</td>\n",
       "      <td>2</td>\n",
       "    </tr>\n",
       "    <tr>\n",
       "      <th>4</th>\n",
       "      <td>1</td>\n",
       "      <td>52</td>\n",
       "      <td>1</td>\n",
       "      <td>1</td>\n",
       "    </tr>\n",
       "  </tbody>\n",
       "</table>\n",
       "</div>"
      ],
      "text/plain": [
       "   sex  age  ulcer  status\n",
       "0    1   76      1       2\n",
       "1    1   56      0       2\n",
       "2    1   41      0       2\n",
       "3    0   71      0       2\n",
       "4    1   52      1       1"
      ]
     },
     "execution_count": 102,
     "metadata": {},
     "output_type": "execute_result"
    }
   ],
   "source": [
    "data['status'] = data['status'].replace([3], 2)\n",
    "data.head(5)"
   ]
  },
  {
   "cell_type": "code",
   "execution_count": 76,
   "id": "11f81c8f",
   "metadata": {},
   "outputs": [],
   "source": [
    "# Scale the data - the ages have a much larger range than the other columns.\n",
    "from sklearn.preprocessing import MinMaxScaler\n",
    "scaler = MinMaxScaler()\n",
    "data_scaled = pd.DataFrame(scaler.fit_transform(data),columns = data.columns)"
   ]
  },
  {
   "cell_type": "code",
   "execution_count": 103,
   "id": "166d8a12",
   "metadata": {},
   "outputs": [
    {
     "data": {
      "text/html": [
       "<div>\n",
       "<style scoped>\n",
       "    .dataframe tbody tr th:only-of-type {\n",
       "        vertical-align: middle;\n",
       "    }\n",
       "\n",
       "    .dataframe tbody tr th {\n",
       "        vertical-align: top;\n",
       "    }\n",
       "\n",
       "    .dataframe thead th {\n",
       "        text-align: right;\n",
       "    }\n",
       "</style>\n",
       "<table border=\"1\" class=\"dataframe\">\n",
       "  <thead>\n",
       "    <tr style=\"text-align: right;\">\n",
       "      <th></th>\n",
       "      <th>sex</th>\n",
       "      <th>age</th>\n",
       "      <th>ulcer</th>\n",
       "      <th>status</th>\n",
       "    </tr>\n",
       "  </thead>\n",
       "  <tbody>\n",
       "    <tr>\n",
       "      <th>0</th>\n",
       "      <td>1.0</td>\n",
       "      <td>0.791209</td>\n",
       "      <td>1.0</td>\n",
       "      <td>1.0</td>\n",
       "    </tr>\n",
       "    <tr>\n",
       "      <th>1</th>\n",
       "      <td>1.0</td>\n",
       "      <td>0.571429</td>\n",
       "      <td>0.0</td>\n",
       "      <td>1.0</td>\n",
       "    </tr>\n",
       "    <tr>\n",
       "      <th>2</th>\n",
       "      <td>1.0</td>\n",
       "      <td>0.406593</td>\n",
       "      <td>0.0</td>\n",
       "      <td>1.0</td>\n",
       "    </tr>\n",
       "    <tr>\n",
       "      <th>3</th>\n",
       "      <td>0.0</td>\n",
       "      <td>0.736264</td>\n",
       "      <td>0.0</td>\n",
       "      <td>1.0</td>\n",
       "    </tr>\n",
       "    <tr>\n",
       "      <th>4</th>\n",
       "      <td>1.0</td>\n",
       "      <td>0.527473</td>\n",
       "      <td>1.0</td>\n",
       "      <td>0.0</td>\n",
       "    </tr>\n",
       "  </tbody>\n",
       "</table>\n",
       "</div>"
      ],
      "text/plain": [
       "   sex       age  ulcer  status\n",
       "0  1.0  0.791209    1.0     1.0\n",
       "1  1.0  0.571429    0.0     1.0\n",
       "2  1.0  0.406593    0.0     1.0\n",
       "3  0.0  0.736264    0.0     1.0\n",
       "4  1.0  0.527473    1.0     0.0"
      ]
     },
     "execution_count": 103,
     "metadata": {},
     "output_type": "execute_result"
    }
   ],
   "source": [
    "data_scaled.head(5)"
   ]
  },
  {
   "cell_type": "markdown",
   "id": "e494d136",
   "metadata": {},
   "source": [
    "Age was obviously scaled from 0 - 1, and status was simply changed to 0 and 1, instead of 1 and 2.  The other columns are unchanged."
   ]
  },
  {
   "cell_type": "code",
   "execution_count": null,
   "id": "dea8760b",
   "metadata": {},
   "outputs": [],
   "source": []
  },
  {
   "cell_type": "markdown",
   "id": "0e0e94a3",
   "metadata": {},
   "source": [
    "c. Data Splitting"
   ]
  },
  {
   "cell_type": "code",
   "execution_count": 78,
   "id": "16e58183",
   "metadata": {},
   "outputs": [],
   "source": [
    "from sklearn.model_selection import train_test_split\n",
    "\n",
    "feat = data_scaled.drop(\"status\",axis=1)\n",
    "targ = data_scaled[\"status\"].copy()\n",
    "\n",
    "X_train, X_test, y_train, y_test = train_test_split(feat, targ, test_size=0.3, random_state=42)"
   ]
  },
  {
   "cell_type": "code",
   "execution_count": 79,
   "id": "cd474f03",
   "metadata": {},
   "outputs": [
    {
     "name": "stdout",
     "output_type": "stream",
     "text": [
      "(143, 3)\n",
      "(143,)\n",
      "(62, 3)\n",
      "(62,)\n"
     ]
    }
   ],
   "source": [
    "print(X_train.shape)\n",
    "print(y_train.shape)\n",
    "print(X_test.shape)\n",
    "print(y_test.shape)"
   ]
  },
  {
   "cell_type": "code",
   "execution_count": null,
   "id": "059d6b27",
   "metadata": {},
   "outputs": [],
   "source": []
  },
  {
   "cell_type": "markdown",
   "id": "73daf7ba",
   "metadata": {},
   "source": [
    "d. Model Construction"
   ]
  },
  {
   "cell_type": "code",
   "execution_count": 80,
   "id": "47dddd65",
   "metadata": {},
   "outputs": [],
   "source": [
    "# Construct the models"
   ]
  },
  {
   "cell_type": "code",
   "execution_count": 81,
   "id": "5f35ba31",
   "metadata": {},
   "outputs": [],
   "source": [
    "# Create a decision tree classifier\n",
    "\n",
    "clf = tree.DecisionTreeClassifier()\n",
    "clf = clf.fit(X_train, y_train)\n",
    "\n",
    "\n",
    "# Create a random forest classifier\n",
    "from sklearn.ensemble import RandomForestClassifier\n",
    "\n",
    "clf_rf = RandomForestClassifier()\n",
    "clf_rf = clf_rf.fit(X_train, y_train)\n"
   ]
  },
  {
   "cell_type": "markdown",
   "id": "072efc07",
   "metadata": {},
   "source": [
    "Some Accuracy scores before any tuning"
   ]
  },
  {
   "cell_type": "code",
   "execution_count": 82,
   "id": "d1a49199",
   "metadata": {},
   "outputs": [
    {
     "name": "stdout",
     "output_type": "stream",
     "text": [
      "Accuracy Score for the Test set for the Decision Tree Classifier:  0.6290322580645161\n",
      "Accuracy Score for the Test set for the Random Corest Classifier:  0.6129032258064516\n"
     ]
    }
   ],
   "source": [
    "y_pred_dt = clf.predict(X_test)\n",
    "y_pred_rf = clf_rf.predict(X_test)\n",
    "\n",
    "# Save the pre-tuned results for later\n",
    "res_dt_pre = accuracy_score(y_test, y_pred_dt)\n",
    "res_rf_pre = accuracy_score(y_test, y_pred_rf)\n",
    "\n",
    "print(\"Accuracy Score for the Test set for the Decision Tree Classifier: \", res_dt_pre)\n",
    "print(\"Accuracy Score for the Test set for the Random Corest Classifier: \", res_rf_pre)"
   ]
  },
  {
   "cell_type": "code",
   "execution_count": null,
   "id": "31c38d02",
   "metadata": {},
   "outputs": [],
   "source": []
  },
  {
   "cell_type": "markdown",
   "id": "9c54affb",
   "metadata": {},
   "source": [
    "e.  Hyperparameter tuning"
   ]
  },
  {
   "cell_type": "code",
   "execution_count": 83,
   "id": "582a478e",
   "metadata": {},
   "outputs": [
    {
     "data": {
      "text/plain": [
       "{'ccp_alpha': 0.0,\n",
       " 'class_weight': None,\n",
       " 'criterion': 'gini',\n",
       " 'max_depth': None,\n",
       " 'max_features': None,\n",
       " 'max_leaf_nodes': None,\n",
       " 'min_impurity_decrease': 0.0,\n",
       " 'min_impurity_split': None,\n",
       " 'min_samples_leaf': 1,\n",
       " 'min_samples_split': 2,\n",
       " 'min_weight_fraction_leaf': 0.0,\n",
       " 'random_state': None,\n",
       " 'splitter': 'best'}"
      ]
     },
     "execution_count": 83,
     "metadata": {},
     "output_type": "execute_result"
    }
   ],
   "source": [
    "# What are the hyperparams for both?\n",
    "\n",
    "clf.get_params()"
   ]
  },
  {
   "cell_type": "code",
   "execution_count": 84,
   "id": "791474b8",
   "metadata": {},
   "outputs": [
    {
     "data": {
      "text/plain": [
       "{'bootstrap': True,\n",
       " 'ccp_alpha': 0.0,\n",
       " 'class_weight': None,\n",
       " 'criterion': 'gini',\n",
       " 'max_depth': None,\n",
       " 'max_features': 'auto',\n",
       " 'max_leaf_nodes': None,\n",
       " 'max_samples': None,\n",
       " 'min_impurity_decrease': 0.0,\n",
       " 'min_impurity_split': None,\n",
       " 'min_samples_leaf': 1,\n",
       " 'min_samples_split': 2,\n",
       " 'min_weight_fraction_leaf': 0.0,\n",
       " 'n_estimators': 100,\n",
       " 'n_jobs': None,\n",
       " 'oob_score': False,\n",
       " 'random_state': None,\n",
       " 'verbose': 0,\n",
       " 'warm_start': False}"
      ]
     },
     "execution_count": 84,
     "metadata": {},
     "output_type": "execute_result"
    }
   ],
   "source": [
    "clf_rf.get_params()"
   ]
  },
  {
   "cell_type": "code",
   "execution_count": 85,
   "id": "1e112d07",
   "metadata": {},
   "outputs": [
    {
     "data": {
      "text/plain": [
       "11"
      ]
     },
     "execution_count": 85,
     "metadata": {},
     "output_type": "execute_result"
    }
   ],
   "source": [
    "clf.tree_.max_depth"
   ]
  },
  {
   "cell_type": "code",
   "execution_count": 86,
   "id": "35bf1697",
   "metadata": {},
   "outputs": [
    {
     "name": "stdout",
     "output_type": "stream",
     "text": [
      "Optimal:  {'max_depth': 1, 'max_features': 0.4}\n"
     ]
    }
   ],
   "source": [
    "# For Decision Tree, try a grid_search\n",
    "\n",
    "# Provided\n",
    "param_grid = {\"max_depth\":range(1, clf.tree_.max_depth), \"max_features\":[0.2,0.4,0.6,0.8]}\n",
    "\n",
    "grid = GridSearchCV(estimator=clf, param_grid=param_grid, scoring = None, cv=8)\n",
    "grid = grid.fit(X_train, y_train)\n",
    "\n",
    "print(\"Optimal: \", grid.best_params_)"
   ]
  },
  {
   "cell_type": "code",
   "execution_count": null,
   "id": "c1f4debc",
   "metadata": {},
   "outputs": [],
   "source": []
  },
  {
   "cell_type": "code",
   "execution_count": 87,
   "id": "90c45152",
   "metadata": {},
   "outputs": [
    {
     "name": "stdout",
     "output_type": "stream",
     "text": [
      "Optimal:  {'max_depth': 2, 'n_estimators': 10}\n"
     ]
    }
   ],
   "source": [
    "# Now for Random Forest\n",
    "# Let's try n_estimators and max_depth\n",
    "\n",
    "n_est = [5, 10, 25, 50]\n",
    "max_depth = [2, 4, 8, 15]\n",
    "\n",
    "param_grid = {\"n_estimators\":n_est, \"max_depth\":max_depth}\n",
    "\n",
    "grid_rf = GridSearchCV(estimator=clf_rf, param_grid=param_grid, scoring = None, cv=8)\n",
    "grid_rf = grid_rf.fit(X_train, y_train)\n",
    "\n",
    "print(\"Optimal: \", grid_rf.best_params_)"
   ]
  },
  {
   "cell_type": "code",
   "execution_count": null,
   "id": "e9de63cf",
   "metadata": {},
   "outputs": [],
   "source": []
  },
  {
   "cell_type": "markdown",
   "id": "469d50a6",
   "metadata": {},
   "source": [
    "f.  Build the new models, based on the tuning checks"
   ]
  },
  {
   "cell_type": "code",
   "execution_count": 88,
   "id": "5dd28cea",
   "metadata": {},
   "outputs": [],
   "source": [
    "# Create a decision tree classifier\n",
    "\n",
    "clf_tuned = tree.DecisionTreeClassifier(max_depth=1, max_features=0.4)\n",
    "clf_tuned = clf_tuned.fit(X_train, y_train)\n",
    "\n",
    "\n",
    "# Create a random forest classifier\n",
    "from sklearn.ensemble import RandomForestClassifier\n",
    "\n",
    "clf_rf_tuned = RandomForestClassifier(max_depth=2, n_estimators=50)\n",
    "clf_rf_tuned = clf_rf_tuned.fit(X_train, y_train)\n"
   ]
  },
  {
   "cell_type": "code",
   "execution_count": 89,
   "id": "d275528c",
   "metadata": {},
   "outputs": [
    {
     "name": "stdout",
     "output_type": "stream",
     "text": [
      "Accuracy Score for the Test set for the Decision Tree Classifier:  0.7580645161290323\n",
      "Accuracy Score for the Test set for the Random Corest Classifier:  0.7741935483870968\n"
     ]
    }
   ],
   "source": [
    "y_pred_dt_tuned = clf_tuned.predict(X_test)\n",
    "y_pred_rf_tuned = clf_rf_tuned.predict(X_test)\n",
    "\n",
    "# Accuracy results after tuning\n",
    "res_dt_post = accuracy_score(y_test, y_pred_dt_tuned)\n",
    "res_rf_post = accuracy_score(y_test, y_pred_rf_tuned)\n",
    "\n",
    "\n",
    "print(\"Accuracy Score for the Test set for the Decision Tree Classifier: \", res_dt_post)\n",
    "print(\"Accuracy Score for the Test set for the Random Corest Classifier: \", res_rf_post)"
   ]
  },
  {
   "cell_type": "markdown",
   "id": "ec0f744a",
   "metadata": {},
   "source": [
    "Interesting that both methods have exactly the same results..."
   ]
  },
  {
   "cell_type": "markdown",
   "id": "37d2d528",
   "metadata": {},
   "source": [
    "Based on the chosen hyperparameters, here are the changes in the results:"
   ]
  },
  {
   "cell_type": "code",
   "execution_count": 90,
   "id": "1daa4bbf",
   "metadata": {},
   "outputs": [
    {
     "name": "stdout",
     "output_type": "stream",
     "text": [
      "Decision Tree Classifier Accuracy before tuning:  0.6290322580645161  and after tuning:  0.7580645161290323\n",
      "Random Forest Classifier Accuracy before tuning:  0.6129032258064516  and after tuning:  0.7741935483870968\n"
     ]
    }
   ],
   "source": [
    "print(\"Decision Tree Classifier Accuracy before tuning: \", res_dt_pre, \" and after tuning: \", res_dt_post)\n",
    "print(\"Random Forest Classifier Accuracy before tuning: \", res_rf_pre, \" and after tuning: \", res_rf_post)"
   ]
  },
  {
   "cell_type": "code",
   "execution_count": null,
   "id": "771e68e5",
   "metadata": {},
   "outputs": [],
   "source": []
  },
  {
   "cell_type": "markdown",
   "id": "eb21e82c",
   "metadata": {},
   "source": [
    "g. Overfitting?"
   ]
  },
  {
   "cell_type": "code",
   "execution_count": null,
   "id": "8e46e8db",
   "metadata": {},
   "outputs": [],
   "source": []
  },
  {
   "cell_type": "markdown",
   "id": "cdd48d01",
   "metadata": {},
   "source": [
    "What do the models' performance look like on the training data?"
   ]
  },
  {
   "cell_type": "code",
   "execution_count": 92,
   "id": "32d847c4",
   "metadata": {},
   "outputs": [
    {
     "name": "stdout",
     "output_type": "stream",
     "text": [
      "Accuracy, DT, Train Set:  0.7202797202797203\n",
      "Accuracy, RF, Train Set:  0.7132867132867133\n"
     ]
    }
   ],
   "source": [
    "y_pred_dt_tuned_trainset = clf_tuned.predict(X_train)\n",
    "y_pred_rf_tuned_trainset = clf_rf_tuned.predict(X_train)\n",
    "\n",
    "# Accuracy results after tuning\n",
    "res_dt_post_trainset = accuracy_score(y_train, y_pred_dt_tuned_trainset)\n",
    "res_rf_post_trainset = accuracy_score(y_train, y_pred_rf_tuned_trainset)\n",
    "\n",
    "print(\"Accuracy, DT, Train Set: \", res_dt_post_trainset)\n",
    "print(\"Accuracy, RF, Train Set: \", res_rf_post_trainset)"
   ]
  },
  {
   "cell_type": "markdown",
   "id": "c32c54ad",
   "metadata": {},
   "source": [
    "Oddly, these models perform slightly less well on the Training set than on the Test set.  There is no overfitting, since the Training set performance is not better than the Test set performance by a large amount.  \n",
    "\n",
    "The tuned models predicted the correct outcome 75% of the time, which is obviously quite a bit better than a coin toss.  However, I believe that this could be improved, possibly with more hyperparameter tuning.  This dataset only contained 205 records - a larger set may result in improved accuracy.  This student's selection of predictors - sex, age and presence of an ulceration - may have limited the accuracy.  Other measures not included in this dataset, such as family history, overall health, and if this was the first tumor removed - may improve accuracy as well.  \n",
    "\n",
    "\n"
   ]
  },
  {
   "cell_type": "code",
   "execution_count": null,
   "id": "c6be9d20",
   "metadata": {},
   "outputs": [],
   "source": []
  },
  {
   "cell_type": "code",
   "execution_count": null,
   "id": "545f4661",
   "metadata": {},
   "outputs": [],
   "source": []
  }
 ],
 "metadata": {
  "kernelspec": {
   "display_name": "Python 3",
   "language": "python",
   "name": "python3"
  },
  "language_info": {
   "codemirror_mode": {
    "name": "ipython",
    "version": 3
   },
   "file_extension": ".py",
   "mimetype": "text/x-python",
   "name": "python",
   "nbconvert_exporter": "python",
   "pygments_lexer": "ipython3",
   "version": "3.9.4"
  }
 },
 "nbformat": 4,
 "nbformat_minor": 5
}
