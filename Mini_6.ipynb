{
 "cells": [
  {
   "cell_type": "markdown",
   "id": "c7d4ff82",
   "metadata": {},
   "source": [
    "Paul O'Leary\n",
    "\n",
    "Comp 4448\n",
    "\n",
    "MinProject - Assignment 6\n",
    "\n",
    "8/9/2021"
   ]
  },
  {
   "cell_type": "code",
   "execution_count": null,
   "id": "55240a7e",
   "metadata": {},
   "outputs": [],
   "source": []
  },
  {
   "cell_type": "code",
   "execution_count": 1,
   "id": "572bf092",
   "metadata": {},
   "outputs": [],
   "source": [
    "# Standard Libraries\n",
    "\n",
    "import pandas as pd\n",
    "import numpy as np\n",
    "import sklearn\n",
    "import matplotlib.pyplot as plt\n",
    "import seaborn as sns\n",
    "from io import StringIO\n",
    "from scipy import stats"
   ]
  },
  {
   "cell_type": "code",
   "execution_count": null,
   "id": "d65cec66",
   "metadata": {},
   "outputs": [],
   "source": []
  },
  {
   "cell_type": "markdown",
   "id": "d5139770",
   "metadata": {},
   "source": [
    "Part 3\n",
    "\n",
    "https://www.kaggle.com/kumarajarshi/life-expectancy-who/\n",
    "\n",
    "The Global Health Observatory (GHO) data repository under World Health Organization (WHO) keeps track of the health status as well as many other related factors for all countries The datasets are made available to public for the purpose of health data analysis. The dataset related to life expectancy, health factors for 193 countries has been collected from the same WHO data repository website and its corresponding economic data was collected from United Nation website. Among all categories of health-related factors only those critical factors were chosen which are more representative. It has been observed that in the past 15 years , there has been a huge development in health sector resulting in improvement of human mortality rates especially in the developing nations in comparison to the past 30 years. Therefore, in this project we have considered data from year 2000-2015 for 193 countries for further analysis. The individual data files have been merged together into a single dataset. On initial visual inspection of the data showed some missing values. As the datasets were from WHO, we found no evident errors. Missing data was handled in R software by using Missmap command. The result indicated that most of the missing data was for population, Hepatitis B and GDP. The missing data were from less known countries like Vanuatu, Tonga, Togo,Cabo Verde etc. Finding all data for these countries was difficult and hence, it was decided that we exclude these countries from the final model dataset. The final merged file(final dataset) consists of 22 Columns and 2938 rows which meant 20 predicting variables. All predicting variables was then divided into several broad categories:​Immunization related factors, Mortality factors, Economical factors and Social factors.\n",
    "\n",
    "\n",
    "Life Expectancy will be the Traget variable.\n",
    "\n",
    "\n",
    "For simplicity sake, I will pare the input variables down to \n",
    "\n",
    "  - Adult Mortality, number of people dying between 15 and 60 per 1000 people\n",
    "\n",
    "  - Infant deaths, number of infant deaths per 1000\n",
    "\n",
    "  - Alcohol consumption, litres of alcohol consumed per capita\n",
    "\n",
    "  - BMI, average BMI for the entire population\n",
    "\n",
    "  - Total expenditure, government spending on health care as a percentage of total expenditure"
   ]
  },
  {
   "cell_type": "code",
   "execution_count": 38,
   "id": "783ba551",
   "metadata": {},
   "outputs": [],
   "source": [
    "#"
   ]
  },
  {
   "cell_type": "code",
   "execution_count": 39,
   "id": "9262cd7c",
   "metadata": {},
   "outputs": [],
   "source": [
    "# import the Life Expectance data\n",
    "\n",
    "le = pd.read_csv(\"Life Expectancy Data.csv\")"
   ]
  },
  {
   "cell_type": "code",
   "execution_count": 40,
   "id": "49b5c7e1",
   "metadata": {},
   "outputs": [
    {
     "data": {
      "text/html": [
       "<div>\n",
       "<style scoped>\n",
       "    .dataframe tbody tr th:only-of-type {\n",
       "        vertical-align: middle;\n",
       "    }\n",
       "\n",
       "    .dataframe tbody tr th {\n",
       "        vertical-align: top;\n",
       "    }\n",
       "\n",
       "    .dataframe thead th {\n",
       "        text-align: right;\n",
       "    }\n",
       "</style>\n",
       "<table border=\"1\" class=\"dataframe\">\n",
       "  <thead>\n",
       "    <tr style=\"text-align: right;\">\n",
       "      <th></th>\n",
       "      <th>Country</th>\n",
       "      <th>Year</th>\n",
       "      <th>Status</th>\n",
       "      <th>Life expectancy</th>\n",
       "      <th>Adult Mortality</th>\n",
       "      <th>infant deaths</th>\n",
       "      <th>Alcohol</th>\n",
       "      <th>percentage expenditure</th>\n",
       "      <th>Hepatitis B</th>\n",
       "      <th>Measles</th>\n",
       "      <th>...</th>\n",
       "      <th>Polio</th>\n",
       "      <th>Total expenditure</th>\n",
       "      <th>Diphtheria</th>\n",
       "      <th>HIV/AIDS</th>\n",
       "      <th>GDP</th>\n",
       "      <th>Population</th>\n",
       "      <th>thinness  1-19 years</th>\n",
       "      <th>thinness 5-9 years</th>\n",
       "      <th>Income composition of resources</th>\n",
       "      <th>Schooling</th>\n",
       "    </tr>\n",
       "  </thead>\n",
       "  <tbody>\n",
       "    <tr>\n",
       "      <th>0</th>\n",
       "      <td>Afghanistan</td>\n",
       "      <td>2015</td>\n",
       "      <td>Developing</td>\n",
       "      <td>65.0</td>\n",
       "      <td>263.0</td>\n",
       "      <td>62</td>\n",
       "      <td>0.01</td>\n",
       "      <td>71.279624</td>\n",
       "      <td>65.0</td>\n",
       "      <td>1154</td>\n",
       "      <td>...</td>\n",
       "      <td>6.0</td>\n",
       "      <td>8.16</td>\n",
       "      <td>65.0</td>\n",
       "      <td>0.1</td>\n",
       "      <td>584.259210</td>\n",
       "      <td>33736494.0</td>\n",
       "      <td>17.2</td>\n",
       "      <td>17.3</td>\n",
       "      <td>0.479</td>\n",
       "      <td>10.1</td>\n",
       "    </tr>\n",
       "    <tr>\n",
       "      <th>1</th>\n",
       "      <td>Afghanistan</td>\n",
       "      <td>2014</td>\n",
       "      <td>Developing</td>\n",
       "      <td>59.9</td>\n",
       "      <td>271.0</td>\n",
       "      <td>64</td>\n",
       "      <td>0.01</td>\n",
       "      <td>73.523582</td>\n",
       "      <td>62.0</td>\n",
       "      <td>492</td>\n",
       "      <td>...</td>\n",
       "      <td>58.0</td>\n",
       "      <td>8.18</td>\n",
       "      <td>62.0</td>\n",
       "      <td>0.1</td>\n",
       "      <td>612.696514</td>\n",
       "      <td>327582.0</td>\n",
       "      <td>17.5</td>\n",
       "      <td>17.5</td>\n",
       "      <td>0.476</td>\n",
       "      <td>10.0</td>\n",
       "    </tr>\n",
       "    <tr>\n",
       "      <th>2</th>\n",
       "      <td>Afghanistan</td>\n",
       "      <td>2013</td>\n",
       "      <td>Developing</td>\n",
       "      <td>59.9</td>\n",
       "      <td>268.0</td>\n",
       "      <td>66</td>\n",
       "      <td>0.01</td>\n",
       "      <td>73.219243</td>\n",
       "      <td>64.0</td>\n",
       "      <td>430</td>\n",
       "      <td>...</td>\n",
       "      <td>62.0</td>\n",
       "      <td>8.13</td>\n",
       "      <td>64.0</td>\n",
       "      <td>0.1</td>\n",
       "      <td>631.744976</td>\n",
       "      <td>31731688.0</td>\n",
       "      <td>17.7</td>\n",
       "      <td>17.7</td>\n",
       "      <td>0.470</td>\n",
       "      <td>9.9</td>\n",
       "    </tr>\n",
       "    <tr>\n",
       "      <th>3</th>\n",
       "      <td>Afghanistan</td>\n",
       "      <td>2012</td>\n",
       "      <td>Developing</td>\n",
       "      <td>59.5</td>\n",
       "      <td>272.0</td>\n",
       "      <td>69</td>\n",
       "      <td>0.01</td>\n",
       "      <td>78.184215</td>\n",
       "      <td>67.0</td>\n",
       "      <td>2787</td>\n",
       "      <td>...</td>\n",
       "      <td>67.0</td>\n",
       "      <td>8.52</td>\n",
       "      <td>67.0</td>\n",
       "      <td>0.1</td>\n",
       "      <td>669.959000</td>\n",
       "      <td>3696958.0</td>\n",
       "      <td>17.9</td>\n",
       "      <td>18.0</td>\n",
       "      <td>0.463</td>\n",
       "      <td>9.8</td>\n",
       "    </tr>\n",
       "    <tr>\n",
       "      <th>4</th>\n",
       "      <td>Afghanistan</td>\n",
       "      <td>2011</td>\n",
       "      <td>Developing</td>\n",
       "      <td>59.2</td>\n",
       "      <td>275.0</td>\n",
       "      <td>71</td>\n",
       "      <td>0.01</td>\n",
       "      <td>7.097109</td>\n",
       "      <td>68.0</td>\n",
       "      <td>3013</td>\n",
       "      <td>...</td>\n",
       "      <td>68.0</td>\n",
       "      <td>7.87</td>\n",
       "      <td>68.0</td>\n",
       "      <td>0.1</td>\n",
       "      <td>63.537231</td>\n",
       "      <td>2978599.0</td>\n",
       "      <td>18.2</td>\n",
       "      <td>18.2</td>\n",
       "      <td>0.454</td>\n",
       "      <td>9.5</td>\n",
       "    </tr>\n",
       "    <tr>\n",
       "      <th>...</th>\n",
       "      <td>...</td>\n",
       "      <td>...</td>\n",
       "      <td>...</td>\n",
       "      <td>...</td>\n",
       "      <td>...</td>\n",
       "      <td>...</td>\n",
       "      <td>...</td>\n",
       "      <td>...</td>\n",
       "      <td>...</td>\n",
       "      <td>...</td>\n",
       "      <td>...</td>\n",
       "      <td>...</td>\n",
       "      <td>...</td>\n",
       "      <td>...</td>\n",
       "      <td>...</td>\n",
       "      <td>...</td>\n",
       "      <td>...</td>\n",
       "      <td>...</td>\n",
       "      <td>...</td>\n",
       "      <td>...</td>\n",
       "      <td>...</td>\n",
       "    </tr>\n",
       "    <tr>\n",
       "      <th>2933</th>\n",
       "      <td>Zimbabwe</td>\n",
       "      <td>2004</td>\n",
       "      <td>Developing</td>\n",
       "      <td>44.3</td>\n",
       "      <td>723.0</td>\n",
       "      <td>27</td>\n",
       "      <td>4.36</td>\n",
       "      <td>0.000000</td>\n",
       "      <td>68.0</td>\n",
       "      <td>31</td>\n",
       "      <td>...</td>\n",
       "      <td>67.0</td>\n",
       "      <td>7.13</td>\n",
       "      <td>65.0</td>\n",
       "      <td>33.6</td>\n",
       "      <td>454.366654</td>\n",
       "      <td>12777511.0</td>\n",
       "      <td>9.4</td>\n",
       "      <td>9.4</td>\n",
       "      <td>0.407</td>\n",
       "      <td>9.2</td>\n",
       "    </tr>\n",
       "    <tr>\n",
       "      <th>2934</th>\n",
       "      <td>Zimbabwe</td>\n",
       "      <td>2003</td>\n",
       "      <td>Developing</td>\n",
       "      <td>44.5</td>\n",
       "      <td>715.0</td>\n",
       "      <td>26</td>\n",
       "      <td>4.06</td>\n",
       "      <td>0.000000</td>\n",
       "      <td>7.0</td>\n",
       "      <td>998</td>\n",
       "      <td>...</td>\n",
       "      <td>7.0</td>\n",
       "      <td>6.52</td>\n",
       "      <td>68.0</td>\n",
       "      <td>36.7</td>\n",
       "      <td>453.351155</td>\n",
       "      <td>12633897.0</td>\n",
       "      <td>9.8</td>\n",
       "      <td>9.9</td>\n",
       "      <td>0.418</td>\n",
       "      <td>9.5</td>\n",
       "    </tr>\n",
       "    <tr>\n",
       "      <th>2935</th>\n",
       "      <td>Zimbabwe</td>\n",
       "      <td>2002</td>\n",
       "      <td>Developing</td>\n",
       "      <td>44.8</td>\n",
       "      <td>73.0</td>\n",
       "      <td>25</td>\n",
       "      <td>4.43</td>\n",
       "      <td>0.000000</td>\n",
       "      <td>73.0</td>\n",
       "      <td>304</td>\n",
       "      <td>...</td>\n",
       "      <td>73.0</td>\n",
       "      <td>6.53</td>\n",
       "      <td>71.0</td>\n",
       "      <td>39.8</td>\n",
       "      <td>57.348340</td>\n",
       "      <td>125525.0</td>\n",
       "      <td>1.2</td>\n",
       "      <td>1.3</td>\n",
       "      <td>0.427</td>\n",
       "      <td>10.0</td>\n",
       "    </tr>\n",
       "    <tr>\n",
       "      <th>2936</th>\n",
       "      <td>Zimbabwe</td>\n",
       "      <td>2001</td>\n",
       "      <td>Developing</td>\n",
       "      <td>45.3</td>\n",
       "      <td>686.0</td>\n",
       "      <td>25</td>\n",
       "      <td>1.72</td>\n",
       "      <td>0.000000</td>\n",
       "      <td>76.0</td>\n",
       "      <td>529</td>\n",
       "      <td>...</td>\n",
       "      <td>76.0</td>\n",
       "      <td>6.16</td>\n",
       "      <td>75.0</td>\n",
       "      <td>42.1</td>\n",
       "      <td>548.587312</td>\n",
       "      <td>12366165.0</td>\n",
       "      <td>1.6</td>\n",
       "      <td>1.7</td>\n",
       "      <td>0.427</td>\n",
       "      <td>9.8</td>\n",
       "    </tr>\n",
       "    <tr>\n",
       "      <th>2937</th>\n",
       "      <td>Zimbabwe</td>\n",
       "      <td>2000</td>\n",
       "      <td>Developing</td>\n",
       "      <td>46.0</td>\n",
       "      <td>665.0</td>\n",
       "      <td>24</td>\n",
       "      <td>1.68</td>\n",
       "      <td>0.000000</td>\n",
       "      <td>79.0</td>\n",
       "      <td>1483</td>\n",
       "      <td>...</td>\n",
       "      <td>78.0</td>\n",
       "      <td>7.10</td>\n",
       "      <td>78.0</td>\n",
       "      <td>43.5</td>\n",
       "      <td>547.358878</td>\n",
       "      <td>12222251.0</td>\n",
       "      <td>11.0</td>\n",
       "      <td>11.2</td>\n",
       "      <td>0.434</td>\n",
       "      <td>9.8</td>\n",
       "    </tr>\n",
       "  </tbody>\n",
       "</table>\n",
       "<p>2938 rows × 22 columns</p>\n",
       "</div>"
      ],
      "text/plain": [
       "          Country  Year      Status  Life expectancy   Adult Mortality  \\\n",
       "0     Afghanistan  2015  Developing              65.0            263.0   \n",
       "1     Afghanistan  2014  Developing              59.9            271.0   \n",
       "2     Afghanistan  2013  Developing              59.9            268.0   \n",
       "3     Afghanistan  2012  Developing              59.5            272.0   \n",
       "4     Afghanistan  2011  Developing              59.2            275.0   \n",
       "...           ...   ...         ...               ...              ...   \n",
       "2933     Zimbabwe  2004  Developing              44.3            723.0   \n",
       "2934     Zimbabwe  2003  Developing              44.5            715.0   \n",
       "2935     Zimbabwe  2002  Developing              44.8             73.0   \n",
       "2936     Zimbabwe  2001  Developing              45.3            686.0   \n",
       "2937     Zimbabwe  2000  Developing              46.0            665.0   \n",
       "\n",
       "      infant deaths  Alcohol  percentage expenditure  Hepatitis B  Measles   \\\n",
       "0                62     0.01               71.279624         65.0      1154   \n",
       "1                64     0.01               73.523582         62.0       492   \n",
       "2                66     0.01               73.219243         64.0       430   \n",
       "3                69     0.01               78.184215         67.0      2787   \n",
       "4                71     0.01                7.097109         68.0      3013   \n",
       "...             ...      ...                     ...          ...       ...   \n",
       "2933             27     4.36                0.000000         68.0        31   \n",
       "2934             26     4.06                0.000000          7.0       998   \n",
       "2935             25     4.43                0.000000         73.0       304   \n",
       "2936             25     1.72                0.000000         76.0       529   \n",
       "2937             24     1.68                0.000000         79.0      1483   \n",
       "\n",
       "      ...  Polio  Total expenditure  Diphtheria    HIV/AIDS         GDP  \\\n",
       "0     ...    6.0               8.16         65.0        0.1  584.259210   \n",
       "1     ...   58.0               8.18         62.0        0.1  612.696514   \n",
       "2     ...   62.0               8.13         64.0        0.1  631.744976   \n",
       "3     ...   67.0               8.52         67.0        0.1  669.959000   \n",
       "4     ...   68.0               7.87         68.0        0.1   63.537231   \n",
       "...   ...    ...                ...          ...        ...         ...   \n",
       "2933  ...   67.0               7.13         65.0       33.6  454.366654   \n",
       "2934  ...    7.0               6.52         68.0       36.7  453.351155   \n",
       "2935  ...   73.0               6.53         71.0       39.8   57.348340   \n",
       "2936  ...   76.0               6.16         75.0       42.1  548.587312   \n",
       "2937  ...   78.0               7.10         78.0       43.5  547.358878   \n",
       "\n",
       "      Population   thinness  1-19 years   thinness 5-9 years  \\\n",
       "0     33736494.0                   17.2                 17.3   \n",
       "1       327582.0                   17.5                 17.5   \n",
       "2     31731688.0                   17.7                 17.7   \n",
       "3      3696958.0                   17.9                 18.0   \n",
       "4      2978599.0                   18.2                 18.2   \n",
       "...          ...                    ...                  ...   \n",
       "2933  12777511.0                    9.4                  9.4   \n",
       "2934  12633897.0                    9.8                  9.9   \n",
       "2935    125525.0                    1.2                  1.3   \n",
       "2936  12366165.0                    1.6                  1.7   \n",
       "2937  12222251.0                   11.0                 11.2   \n",
       "\n",
       "      Income composition of resources  Schooling  \n",
       "0                               0.479       10.1  \n",
       "1                               0.476       10.0  \n",
       "2                               0.470        9.9  \n",
       "3                               0.463        9.8  \n",
       "4                               0.454        9.5  \n",
       "...                               ...        ...  \n",
       "2933                            0.407        9.2  \n",
       "2934                            0.418        9.5  \n",
       "2935                            0.427       10.0  \n",
       "2936                            0.427        9.8  \n",
       "2937                            0.434        9.8  \n",
       "\n",
       "[2938 rows x 22 columns]"
      ]
     },
     "execution_count": 40,
     "metadata": {},
     "output_type": "execute_result"
    }
   ],
   "source": [
    "le"
   ]
  },
  {
   "cell_type": "code",
   "execution_count": null,
   "id": "6b8b1962",
   "metadata": {},
   "outputs": [],
   "source": []
  },
  {
   "cell_type": "code",
   "execution_count": 41,
   "id": "69f4b5a8",
   "metadata": {},
   "outputs": [],
   "source": [
    "le = le.iloc[:, [3,4,5,6,10,13]]"
   ]
  },
  {
   "cell_type": "code",
   "execution_count": 42,
   "id": "5fc2b69a",
   "metadata": {},
   "outputs": [
    {
     "data": {
      "text/html": [
       "<div>\n",
       "<style scoped>\n",
       "    .dataframe tbody tr th:only-of-type {\n",
       "        vertical-align: middle;\n",
       "    }\n",
       "\n",
       "    .dataframe tbody tr th {\n",
       "        vertical-align: top;\n",
       "    }\n",
       "\n",
       "    .dataframe thead th {\n",
       "        text-align: right;\n",
       "    }\n",
       "</style>\n",
       "<table border=\"1\" class=\"dataframe\">\n",
       "  <thead>\n",
       "    <tr style=\"text-align: right;\">\n",
       "      <th></th>\n",
       "      <th>Life expectancy</th>\n",
       "      <th>Adult Mortality</th>\n",
       "      <th>infant deaths</th>\n",
       "      <th>Alcohol</th>\n",
       "      <th>BMI</th>\n",
       "      <th>Total expenditure</th>\n",
       "    </tr>\n",
       "  </thead>\n",
       "  <tbody>\n",
       "    <tr>\n",
       "      <th>0</th>\n",
       "      <td>65.0</td>\n",
       "      <td>263.0</td>\n",
       "      <td>62</td>\n",
       "      <td>0.01</td>\n",
       "      <td>19.1</td>\n",
       "      <td>8.16</td>\n",
       "    </tr>\n",
       "    <tr>\n",
       "      <th>1</th>\n",
       "      <td>59.9</td>\n",
       "      <td>271.0</td>\n",
       "      <td>64</td>\n",
       "      <td>0.01</td>\n",
       "      <td>18.6</td>\n",
       "      <td>8.18</td>\n",
       "    </tr>\n",
       "    <tr>\n",
       "      <th>2</th>\n",
       "      <td>59.9</td>\n",
       "      <td>268.0</td>\n",
       "      <td>66</td>\n",
       "      <td>0.01</td>\n",
       "      <td>18.1</td>\n",
       "      <td>8.13</td>\n",
       "    </tr>\n",
       "    <tr>\n",
       "      <th>3</th>\n",
       "      <td>59.5</td>\n",
       "      <td>272.0</td>\n",
       "      <td>69</td>\n",
       "      <td>0.01</td>\n",
       "      <td>17.6</td>\n",
       "      <td>8.52</td>\n",
       "    </tr>\n",
       "    <tr>\n",
       "      <th>4</th>\n",
       "      <td>59.2</td>\n",
       "      <td>275.0</td>\n",
       "      <td>71</td>\n",
       "      <td>0.01</td>\n",
       "      <td>17.2</td>\n",
       "      <td>7.87</td>\n",
       "    </tr>\n",
       "    <tr>\n",
       "      <th>...</th>\n",
       "      <td>...</td>\n",
       "      <td>...</td>\n",
       "      <td>...</td>\n",
       "      <td>...</td>\n",
       "      <td>...</td>\n",
       "      <td>...</td>\n",
       "    </tr>\n",
       "    <tr>\n",
       "      <th>2933</th>\n",
       "      <td>44.3</td>\n",
       "      <td>723.0</td>\n",
       "      <td>27</td>\n",
       "      <td>4.36</td>\n",
       "      <td>27.1</td>\n",
       "      <td>7.13</td>\n",
       "    </tr>\n",
       "    <tr>\n",
       "      <th>2934</th>\n",
       "      <td>44.5</td>\n",
       "      <td>715.0</td>\n",
       "      <td>26</td>\n",
       "      <td>4.06</td>\n",
       "      <td>26.7</td>\n",
       "      <td>6.52</td>\n",
       "    </tr>\n",
       "    <tr>\n",
       "      <th>2935</th>\n",
       "      <td>44.8</td>\n",
       "      <td>73.0</td>\n",
       "      <td>25</td>\n",
       "      <td>4.43</td>\n",
       "      <td>26.3</td>\n",
       "      <td>6.53</td>\n",
       "    </tr>\n",
       "    <tr>\n",
       "      <th>2936</th>\n",
       "      <td>45.3</td>\n",
       "      <td>686.0</td>\n",
       "      <td>25</td>\n",
       "      <td>1.72</td>\n",
       "      <td>25.9</td>\n",
       "      <td>6.16</td>\n",
       "    </tr>\n",
       "    <tr>\n",
       "      <th>2937</th>\n",
       "      <td>46.0</td>\n",
       "      <td>665.0</td>\n",
       "      <td>24</td>\n",
       "      <td>1.68</td>\n",
       "      <td>25.5</td>\n",
       "      <td>7.10</td>\n",
       "    </tr>\n",
       "  </tbody>\n",
       "</table>\n",
       "<p>2938 rows × 6 columns</p>\n",
       "</div>"
      ],
      "text/plain": [
       "      Life expectancy   Adult Mortality  infant deaths  Alcohol   BMI   \\\n",
       "0                 65.0            263.0             62     0.01   19.1   \n",
       "1                 59.9            271.0             64     0.01   18.6   \n",
       "2                 59.9            268.0             66     0.01   18.1   \n",
       "3                 59.5            272.0             69     0.01   17.6   \n",
       "4                 59.2            275.0             71     0.01   17.2   \n",
       "...                ...              ...            ...      ...    ...   \n",
       "2933              44.3            723.0             27     4.36   27.1   \n",
       "2934              44.5            715.0             26     4.06   26.7   \n",
       "2935              44.8             73.0             25     4.43   26.3   \n",
       "2936              45.3            686.0             25     1.72   25.9   \n",
       "2937              46.0            665.0             24     1.68   25.5   \n",
       "\n",
       "      Total expenditure  \n",
       "0                  8.16  \n",
       "1                  8.18  \n",
       "2                  8.13  \n",
       "3                  8.52  \n",
       "4                  7.87  \n",
       "...                 ...  \n",
       "2933               7.13  \n",
       "2934               6.52  \n",
       "2935               6.53  \n",
       "2936               6.16  \n",
       "2937               7.10  \n",
       "\n",
       "[2938 rows x 6 columns]"
      ]
     },
     "execution_count": 42,
     "metadata": {},
     "output_type": "execute_result"
    }
   ],
   "source": [
    "le"
   ]
  },
  {
   "cell_type": "code",
   "execution_count": null,
   "id": "11ef2f04",
   "metadata": {},
   "outputs": [],
   "source": []
  },
  {
   "cell_type": "markdown",
   "id": "af249f0d",
   "metadata": {},
   "source": [
    "a)\tConstruct a linear regression model using ordinary least squares method by applying the .LinearRegression() constructor in sklearn and find the training and test accuracy of this model using mean square error (mse). https://scikit-learn.org/stable/modules/generated/sklearn.linear_model.LinearRegression.html"
   ]
  },
  {
   "cell_type": "code",
   "execution_count": 43,
   "id": "30f8c927",
   "metadata": {},
   "outputs": [],
   "source": [
    "from sklearn.linear_model import LinearRegression\n",
    "from sklearn.model_selection import train_test_split"
   ]
  },
  {
   "cell_type": "code",
   "execution_count": 44,
   "id": "89b3e6a8",
   "metadata": {},
   "outputs": [
    {
     "data": {
      "text/html": [
       "<div>\n",
       "<style scoped>\n",
       "    .dataframe tbody tr th:only-of-type {\n",
       "        vertical-align: middle;\n",
       "    }\n",
       "\n",
       "    .dataframe tbody tr th {\n",
       "        vertical-align: top;\n",
       "    }\n",
       "\n",
       "    .dataframe thead th {\n",
       "        text-align: right;\n",
       "    }\n",
       "</style>\n",
       "<table border=\"1\" class=\"dataframe\">\n",
       "  <thead>\n",
       "    <tr style=\"text-align: right;\">\n",
       "      <th></th>\n",
       "      <th>Life expectancy</th>\n",
       "      <th>Adult Mortality</th>\n",
       "      <th>infant deaths</th>\n",
       "      <th>Alcohol</th>\n",
       "      <th>BMI</th>\n",
       "      <th>Total expenditure</th>\n",
       "    </tr>\n",
       "  </thead>\n",
       "  <tbody>\n",
       "    <tr>\n",
       "      <th>0</th>\n",
       "      <td>-0.443691</td>\n",
       "      <td>0.790238</td>\n",
       "      <td>0.268824</td>\n",
       "      <td>-1.133571</td>\n",
       "      <td>-0.959116</td>\n",
       "      <td>0.889486</td>\n",
       "    </tr>\n",
       "    <tr>\n",
       "      <th>1</th>\n",
       "      <td>-0.979279</td>\n",
       "      <td>0.854614</td>\n",
       "      <td>0.285786</td>\n",
       "      <td>-1.133571</td>\n",
       "      <td>-0.984066</td>\n",
       "      <td>0.897493</td>\n",
       "    </tr>\n",
       "    <tr>\n",
       "      <th>2</th>\n",
       "      <td>-0.979279</td>\n",
       "      <td>0.830473</td>\n",
       "      <td>0.302749</td>\n",
       "      <td>-1.133571</td>\n",
       "      <td>-1.009015</td>\n",
       "      <td>0.877476</td>\n",
       "    </tr>\n",
       "    <tr>\n",
       "      <th>3</th>\n",
       "      <td>-1.021286</td>\n",
       "      <td>0.862660</td>\n",
       "      <td>0.328193</td>\n",
       "      <td>-1.133571</td>\n",
       "      <td>-1.033964</td>\n",
       "      <td>1.033609</td>\n",
       "    </tr>\n",
       "    <tr>\n",
       "      <th>4</th>\n",
       "      <td>-1.052791</td>\n",
       "      <td>0.886801</td>\n",
       "      <td>0.345155</td>\n",
       "      <td>-1.133571</td>\n",
       "      <td>-1.053924</td>\n",
       "      <td>0.773387</td>\n",
       "    </tr>\n",
       "  </tbody>\n",
       "</table>\n",
       "</div>"
      ],
      "text/plain": [
       "   Life expectancy   Adult Mortality  infant deaths   Alcohol      BMI   \\\n",
       "0         -0.443691         0.790238       0.268824 -1.133571 -0.959116   \n",
       "1         -0.979279         0.854614       0.285786 -1.133571 -0.984066   \n",
       "2         -0.979279         0.830473       0.302749 -1.133571 -1.009015   \n",
       "3         -1.021286         0.862660       0.328193 -1.133571 -1.033964   \n",
       "4         -1.052791         0.886801       0.345155 -1.133571 -1.053924   \n",
       "\n",
       "   Total expenditure  \n",
       "0           0.889486  \n",
       "1           0.897493  \n",
       "2           0.877476  \n",
       "3           1.033609  \n",
       "4           0.773387  "
      ]
     },
     "execution_count": 44,
     "metadata": {},
     "output_type": "execute_result"
    }
   ],
   "source": [
    "# StandardScaler on the data\n",
    "\n",
    "from sklearn.preprocessing import StandardScaler\n",
    "\n",
    "ss = StandardScaler()\n",
    "\n",
    "le_temp = ss.fit_transform(le)\n",
    "\n",
    "le_enc = pd.DataFrame(le_temp, columns = le.columns)\n",
    "le_enc.head(5)"
   ]
  },
  {
   "cell_type": "code",
   "execution_count": 45,
   "id": "abd2c699",
   "metadata": {},
   "outputs": [
    {
     "data": {
      "text/html": [
       "<div>\n",
       "<style scoped>\n",
       "    .dataframe tbody tr th:only-of-type {\n",
       "        vertical-align: middle;\n",
       "    }\n",
       "\n",
       "    .dataframe tbody tr th {\n",
       "        vertical-align: top;\n",
       "    }\n",
       "\n",
       "    .dataframe thead th {\n",
       "        text-align: right;\n",
       "    }\n",
       "</style>\n",
       "<table border=\"1\" class=\"dataframe\">\n",
       "  <thead>\n",
       "    <tr style=\"text-align: right;\">\n",
       "      <th></th>\n",
       "      <th>Lifeexpectancy</th>\n",
       "      <th>AdultMortality</th>\n",
       "      <th>infantdeaths</th>\n",
       "      <th>Alcohol</th>\n",
       "      <th>BMI</th>\n",
       "      <th>Totalexpenditure</th>\n",
       "    </tr>\n",
       "  </thead>\n",
       "  <tbody>\n",
       "    <tr>\n",
       "      <th>0</th>\n",
       "      <td>-0.443691</td>\n",
       "      <td>0.790238</td>\n",
       "      <td>0.268824</td>\n",
       "      <td>-1.133571</td>\n",
       "      <td>-0.959116</td>\n",
       "      <td>0.889486</td>\n",
       "    </tr>\n",
       "    <tr>\n",
       "      <th>1</th>\n",
       "      <td>-0.979279</td>\n",
       "      <td>0.854614</td>\n",
       "      <td>0.285786</td>\n",
       "      <td>-1.133571</td>\n",
       "      <td>-0.984066</td>\n",
       "      <td>0.897493</td>\n",
       "    </tr>\n",
       "    <tr>\n",
       "      <th>2</th>\n",
       "      <td>-0.979279</td>\n",
       "      <td>0.830473</td>\n",
       "      <td>0.302749</td>\n",
       "      <td>-1.133571</td>\n",
       "      <td>-1.009015</td>\n",
       "      <td>0.877476</td>\n",
       "    </tr>\n",
       "    <tr>\n",
       "      <th>3</th>\n",
       "      <td>-1.021286</td>\n",
       "      <td>0.862660</td>\n",
       "      <td>0.328193</td>\n",
       "      <td>-1.133571</td>\n",
       "      <td>-1.033964</td>\n",
       "      <td>1.033609</td>\n",
       "    </tr>\n",
       "    <tr>\n",
       "      <th>4</th>\n",
       "      <td>-1.052791</td>\n",
       "      <td>0.886801</td>\n",
       "      <td>0.345155</td>\n",
       "      <td>-1.133571</td>\n",
       "      <td>-1.053924</td>\n",
       "      <td>0.773387</td>\n",
       "    </tr>\n",
       "  </tbody>\n",
       "</table>\n",
       "</div>"
      ],
      "text/plain": [
       "   Lifeexpectancy  AdultMortality  infantdeaths   Alcohol       BMI  \\\n",
       "0       -0.443691        0.790238      0.268824 -1.133571 -0.959116   \n",
       "1       -0.979279        0.854614      0.285786 -1.133571 -0.984066   \n",
       "2       -0.979279        0.830473      0.302749 -1.133571 -1.009015   \n",
       "3       -1.021286        0.862660      0.328193 -1.133571 -1.033964   \n",
       "4       -1.052791        0.886801      0.345155 -1.133571 -1.053924   \n",
       "\n",
       "   Totalexpenditure  \n",
       "0          0.889486  \n",
       "1          0.897493  \n",
       "2          0.877476  \n",
       "3          1.033609  \n",
       "4          0.773387  "
      ]
     },
     "execution_count": 45,
     "metadata": {},
     "output_type": "execute_result"
    }
   ],
   "source": [
    "# Clean up the spaces in the column names\n",
    "le_enc.columns = le_enc.columns.str.replace(' ', '')\n",
    "le_enc.head(5)"
   ]
  },
  {
   "cell_type": "code",
   "execution_count": 46,
   "id": "f3da5f11",
   "metadata": {},
   "outputs": [],
   "source": [
    "# Better than it was - if I need cleaner, I will do that."
   ]
  },
  {
   "cell_type": "code",
   "execution_count": 47,
   "id": "c5d0dc3b",
   "metadata": {},
   "outputs": [
    {
     "name": "stdout",
     "output_type": "stream",
     "text": [
      "<class 'pandas.core.frame.DataFrame'>\n",
      "RangeIndex: 2938 entries, 0 to 2937\n",
      "Data columns (total 6 columns):\n",
      " #   Column            Non-Null Count  Dtype  \n",
      "---  ------            --------------  -----  \n",
      " 0   Lifeexpectancy    2928 non-null   float64\n",
      " 1   AdultMortality    2928 non-null   float64\n",
      " 2   infantdeaths      2938 non-null   float64\n",
      " 3   Alcohol           2744 non-null   float64\n",
      " 4   BMI               2904 non-null   float64\n",
      " 5   Totalexpenditure  2712 non-null   float64\n",
      "dtypes: float64(6)\n",
      "memory usage: 137.8 KB\n"
     ]
    }
   ],
   "source": [
    "# Any NaNs?\n",
    "\n",
    "le_enc.info()"
   ]
  },
  {
   "cell_type": "code",
   "execution_count": 48,
   "id": "a841322a",
   "metadata": {},
   "outputs": [
    {
     "name": "stdout",
     "output_type": "stream",
     "text": [
      "<class 'pandas.core.frame.DataFrame'>\n",
      "Int64Index: 2683 entries, 0 to 2937\n",
      "Data columns (total 6 columns):\n",
      " #   Column            Non-Null Count  Dtype  \n",
      "---  ------            --------------  -----  \n",
      " 0   Lifeexpectancy    2683 non-null   float64\n",
      " 1   AdultMortality    2683 non-null   float64\n",
      " 2   infantdeaths      2683 non-null   float64\n",
      " 3   Alcohol           2683 non-null   float64\n",
      " 4   BMI               2683 non-null   float64\n",
      " 5   Totalexpenditure  2683 non-null   float64\n",
      "dtypes: float64(6)\n",
      "memory usage: 146.7 KB\n"
     ]
    }
   ],
   "source": [
    "le_enc.dropna(inplace=True)\n",
    "le_enc.info()"
   ]
  },
  {
   "cell_type": "code",
   "execution_count": null,
   "id": "920848cb",
   "metadata": {},
   "outputs": [],
   "source": []
  },
  {
   "cell_type": "code",
   "execution_count": 49,
   "id": "003b542f",
   "metadata": {},
   "outputs": [],
   "source": [
    "feat = le_enc.drop(\"Lifeexpectancy\",axis=1)\n",
    "targ = le_enc[\"Lifeexpectancy\"].copy()"
   ]
  },
  {
   "cell_type": "code",
   "execution_count": 50,
   "id": "fbca0a2f",
   "metadata": {},
   "outputs": [],
   "source": [
    "# Test and Training sets\n",
    "\n",
    "X_train, X_test, y_train, y_test = train_test_split(feat, targ, test_size=0.3, random_state=42)"
   ]
  },
  {
   "cell_type": "code",
   "execution_count": null,
   "id": "00ea2255",
   "metadata": {},
   "outputs": [],
   "source": []
  },
  {
   "cell_type": "code",
   "execution_count": 51,
   "id": "ae28e58a",
   "metadata": {},
   "outputs": [],
   "source": [
    "reg = LinearRegression().fit(X_train,y_train)\n",
    "# reg.score(X_train,y_train)"
   ]
  },
  {
   "cell_type": "code",
   "execution_count": 52,
   "id": "d501b8a9",
   "metadata": {},
   "outputs": [
    {
     "name": "stdout",
     "output_type": "stream",
     "text": [
      "MSE for the Training data:  0.37092910927236733\n",
      "MSE for the Test data:  0.40270774903760354\n"
     ]
    }
   ],
   "source": [
    "# Accuracy of the Training set\n",
    "\n",
    "from sklearn.metrics import mean_squared_error\n",
    "\n",
    "train_preds = reg.predict(X_train)\n",
    "test_preds = reg.predict(X_test)\n",
    "\n",
    "print(\"MSE for the Training data: \", mean_squared_error(y_train, train_preds))\n",
    "print(\"MSE for the Test data: \", mean_squared_error(y_test, test_preds))"
   ]
  },
  {
   "cell_type": "code",
   "execution_count": null,
   "id": "c7128b55",
   "metadata": {},
   "outputs": [],
   "source": []
  },
  {
   "cell_type": "markdown",
   "id": "2d8572fa",
   "metadata": {},
   "source": [
    "b)\tCheck for overfitting. Is there overfitting? Support your answer with some results you generated. "
   ]
  },
  {
   "cell_type": "code",
   "execution_count": 53,
   "id": "e00badab",
   "metadata": {},
   "outputs": [],
   "source": [
    "from sklearn.metrics import mean_absolute_error\n",
    "from sklearn.metrics import r2_score"
   ]
  },
  {
   "cell_type": "code",
   "execution_count": 54,
   "id": "a54957c6",
   "metadata": {},
   "outputs": [
    {
     "name": "stdout",
     "output_type": "stream",
     "text": [
      "MAE for the Training data:  0.4154971267049513\n",
      "MAE for the Test data:  0.43872976034157596\n",
      "R-squared for the Training data:  0.6241983700286791\n",
      "R-Squared for the Test data:  0.6110916819131313\n"
     ]
    }
   ],
   "source": [
    "# I will check MAE and R^2\n",
    "\n",
    "print(\"MAE for the Training data: \", mean_absolute_error(y_train, train_preds))\n",
    "print(\"MAE for the Test data: \", mean_absolute_error(y_test, test_preds))\n",
    "\n",
    "print(\"R-squared for the Training data: \", r2_score(y_train, train_preds))\n",
    "print(\"R-Squared for the Test data: \", r2_score(y_test, test_preds))"
   ]
  },
  {
   "cell_type": "markdown",
   "id": "6268fbf3",
   "metadata": {},
   "source": [
    "There does not appear to be overfitting on the model.  The R-squared scores are OK, not great, and the scores comparing the Training and Test sets are comparable."
   ]
  },
  {
   "cell_type": "code",
   "execution_count": null,
   "id": "3f8629bb",
   "metadata": {},
   "outputs": [],
   "source": []
  },
  {
   "cell_type": "markdown",
   "id": "673ad3e4",
   "metadata": {},
   "source": [
    "c)\tFit a lasso regression on the data and check the training and test accuracy of the model using mse. Use the default alpha or penalty constant. https://scikit-learn.org/stable/modules/generated/sklearn.linear_model.Lasso.html"
   ]
  },
  {
   "cell_type": "code",
   "execution_count": 55,
   "id": "11d55410",
   "metadata": {},
   "outputs": [],
   "source": [
    "from sklearn import linear_model"
   ]
  },
  {
   "cell_type": "code",
   "execution_count": 56,
   "id": "f20f1860",
   "metadata": {},
   "outputs": [
    {
     "data": {
      "text/plain": [
       "Lasso()"
      ]
     },
     "execution_count": 56,
     "metadata": {},
     "output_type": "execute_result"
    }
   ],
   "source": [
    "reg_las = linear_model.Lasso()\n",
    "\n",
    "reg_las.fit(X_train, y_train)"
   ]
  },
  {
   "cell_type": "code",
   "execution_count": 57,
   "id": "001d4d73",
   "metadata": {},
   "outputs": [],
   "source": [
    "train_preds_lasso = reg_las.predict(X_train)\n",
    "test_preds_lasso = reg_las.predict(X_test)"
   ]
  },
  {
   "cell_type": "code",
   "execution_count": 58,
   "id": "69db7721",
   "metadata": {},
   "outputs": [
    {
     "name": "stdout",
     "output_type": "stream",
     "text": [
      "MSE for the Training data:  0.9870343279263436\n",
      "MSE for the Test data:  1.0391064083061814\n"
     ]
    }
   ],
   "source": [
    "print(\"MSE for the Training data: \", mean_squared_error(y_train, train_preds_lasso))\n",
    "print(\"MSE for the Test data: \", mean_squared_error(y_test, test_preds_lasso))"
   ]
  },
  {
   "cell_type": "markdown",
   "id": "f98c01ee",
   "metadata": {},
   "source": [
    "Much higher MSE for the Lasso Regression"
   ]
  },
  {
   "cell_type": "code",
   "execution_count": null,
   "id": "0230c77e",
   "metadata": {},
   "outputs": [],
   "source": []
  },
  {
   "cell_type": "markdown",
   "id": "432a7214",
   "metadata": {},
   "source": [
    "d)\tFit a ridge regression on the data and check the training and test accuracy of the model. Use the default alpha or penalty constant. https://scikit-learn.org/stable/modules/generated/sklearn.linear_model.Ridge.html "
   ]
  },
  {
   "cell_type": "code",
   "execution_count": 59,
   "id": "6b5d3659",
   "metadata": {},
   "outputs": [],
   "source": [
    "from sklearn.linear_model import Ridge"
   ]
  },
  {
   "cell_type": "code",
   "execution_count": 60,
   "id": "82f98930",
   "metadata": {},
   "outputs": [
    {
     "data": {
      "text/plain": [
       "Ridge()"
      ]
     },
     "execution_count": 60,
     "metadata": {},
     "output_type": "execute_result"
    }
   ],
   "source": [
    "reg_ridge = Ridge()\n",
    "reg_ridge.fit(X_train, y_train)"
   ]
  },
  {
   "cell_type": "code",
   "execution_count": 61,
   "id": "c93930da",
   "metadata": {},
   "outputs": [],
   "source": [
    "train_preds_ridge = reg_ridge.predict(X_train)\n",
    "test_preds_ridge = reg_ridge.predict(X_test)"
   ]
  },
  {
   "cell_type": "code",
   "execution_count": 62,
   "id": "eff1fe85",
   "metadata": {},
   "outputs": [
    {
     "name": "stdout",
     "output_type": "stream",
     "text": [
      "MSE for the Training data:  0.37092919668901675\n",
      "MSE for the Test data:  0.402702769148936\n"
     ]
    }
   ],
   "source": [
    "print(\"MSE for the Training data: \", mean_squared_error(y_train, train_preds_ridge))\n",
    "print(\"MSE for the Test data: \", mean_squared_error(y_test, test_preds_ridge))"
   ]
  },
  {
   "cell_type": "markdown",
   "id": "253d7949",
   "metadata": {},
   "source": [
    "Very close to the results from regular linear regression"
   ]
  },
  {
   "cell_type": "code",
   "execution_count": null,
   "id": "21bba883",
   "metadata": {},
   "outputs": [],
   "source": []
  },
  {
   "cell_type": "markdown",
   "id": "2a98b95c",
   "metadata": {},
   "source": [
    "e)\tWhich model is better, OLS, Lasso, or Ridge regression? "
   ]
  },
  {
   "cell_type": "markdown",
   "id": "b30212cc",
   "metadata": {},
   "source": [
    "The results from the OLS and from the Ridge regression are nearly identical, both performing better than the Lasso regression."
   ]
  },
  {
   "cell_type": "code",
   "execution_count": null,
   "id": "12acd524",
   "metadata": {},
   "outputs": [],
   "source": []
  },
  {
   "cell_type": "markdown",
   "id": "581d30b8",
   "metadata": {},
   "source": [
    "d)\tTune the alpha hyperparameters of the lasso and ridge regression using any tuning technique of your choice? What is the best alpha value for the lasso regression and what is the best alpha value for the ridge regression?"
   ]
  },
  {
   "cell_type": "code",
   "execution_count": 63,
   "id": "311a45c9",
   "metadata": {},
   "outputs": [],
   "source": [
    "from sklearn.model_selection import GridSearchCV"
   ]
  },
  {
   "cell_type": "code",
   "execution_count": 64,
   "id": "524752e7",
   "metadata": {},
   "outputs": [],
   "source": [
    "# Set the alpha param\n",
    "\n",
    "lasso_params = {'alpha':[0.005, 0.02, 0.03, 0.05, 0.06]}\n",
    "ridge_params = {'alpha':[1.0, 5, 100, 500, 650]}"
   ]
  },
  {
   "cell_type": "code",
   "execution_count": 65,
   "id": "2a0d1a28",
   "metadata": {},
   "outputs": [],
   "source": [
    "model_lasso = GridSearchCV(linear_model.Lasso(), param_grid=lasso_params).fit(X_train, y_train)"
   ]
  },
  {
   "cell_type": "code",
   "execution_count": 66,
   "id": "6ecee9d3",
   "metadata": {},
   "outputs": [
    {
     "data": {
      "text/plain": [
       "Lasso(alpha=0.005)"
      ]
     },
     "execution_count": 66,
     "metadata": {},
     "output_type": "execute_result"
    }
   ],
   "source": [
    "model_lasso.best_estimator_"
   ]
  },
  {
   "cell_type": "code",
   "execution_count": 67,
   "id": "089868db",
   "metadata": {},
   "outputs": [
    {
     "data": {
      "text/plain": [
       "Ridge(alpha=5)"
      ]
     },
     "execution_count": 67,
     "metadata": {},
     "output_type": "execute_result"
    }
   ],
   "source": [
    "# Now Ridge\n",
    "\n",
    "model_ridge = GridSearchCV(Ridge(), param_grid=ridge_params).fit(X_train, y_train)\n",
    "model_ridge.best_estimator_"
   ]
  },
  {
   "cell_type": "code",
   "execution_count": null,
   "id": "9a0aa8f4",
   "metadata": {},
   "outputs": [],
   "source": []
  },
  {
   "cell_type": "code",
   "execution_count": 68,
   "id": "ef93b87c",
   "metadata": {},
   "outputs": [
    {
     "name": "stdout",
     "output_type": "stream",
     "text": [
      "MSE for the Training data:  0.3709972779526918\n",
      "MSE for the Test data:  0.40283290805588173\n"
     ]
    }
   ],
   "source": [
    "# OK.  Now run them again with those Alphas\n",
    "\n",
    "# Lasso\n",
    "\n",
    "reg_las_tuned = linear_model.Lasso(alpha=0.005)\n",
    "\n",
    "reg_las_tuned.fit(X_train, y_train)\n",
    "\n",
    "train_preds_lasso_tuned = reg_las_tuned.predict(X_train)\n",
    "test_preds_lasso_tuned = reg_las_tuned.predict(X_test)\n",
    "\n",
    "print(\"MSE for the Training data: \", mean_squared_error(y_train, train_preds_lasso_tuned))\n",
    "print(\"MSE for the Test data: \", mean_squared_error(y_test, test_preds_lasso_tuned))"
   ]
  },
  {
   "cell_type": "markdown",
   "id": "ff171565",
   "metadata": {},
   "source": [
    "Greatly improved over the non-tuned Lasso"
   ]
  },
  {
   "cell_type": "code",
   "execution_count": null,
   "id": "fa79aef1",
   "metadata": {},
   "outputs": [],
   "source": []
  },
  {
   "cell_type": "code",
   "execution_count": 69,
   "id": "55e34346",
   "metadata": {},
   "outputs": [
    {
     "name": "stdout",
     "output_type": "stream",
     "text": [
      "MSE for the Training data:  0.37093128621164756\n",
      "MSE for the Test data:  0.4026848509191513\n"
     ]
    }
   ],
   "source": [
    "# Ridge\n",
    "\n",
    "reg_ridge_tuned = Ridge(alpha=5)\n",
    "\n",
    "reg_ridge_tuned.fit(X_train, y_train)\n",
    "\n",
    "train_preds_ridge_tuned = reg_ridge_tuned.predict(X_train)\n",
    "test_preds_ridge_tuned = reg_ridge_tuned.predict(X_test)\n",
    "\n",
    "print(\"MSE for the Training data: \", mean_squared_error(y_train, train_preds_ridge_tuned))\n",
    "print(\"MSE for the Test data: \", mean_squared_error(y_test, test_preds_ridge_tuned))"
   ]
  },
  {
   "cell_type": "markdown",
   "id": "426c5ea4",
   "metadata": {},
   "source": [
    "Similar results again.  It appears that with this batch of data and these input columns this is as good as it will get.  Feature reduction and other tunable parameters could be investigated."
   ]
  },
  {
   "cell_type": "code",
   "execution_count": null,
   "id": "04200fec",
   "metadata": {},
   "outputs": [],
   "source": []
  }
 ],
 "metadata": {
  "kernelspec": {
   "display_name": "Python 3",
   "language": "python",
   "name": "python3"
  },
  "language_info": {
   "codemirror_mode": {
    "name": "ipython",
    "version": 3
   },
   "file_extension": ".py",
   "mimetype": "text/x-python",
   "name": "python",
   "nbconvert_exporter": "python",
   "pygments_lexer": "ipython3",
   "version": "3.9.4"
  }
 },
 "nbformat": 4,
 "nbformat_minor": 5
}
