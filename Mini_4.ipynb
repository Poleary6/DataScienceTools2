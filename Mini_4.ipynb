{
 "cells": [
  {
   "cell_type": "markdown",
   "id": "387937cc",
   "metadata": {},
   "source": [
    "Paul O'Leary\n",
    "\n",
    "Comp 4448\n",
    "\n",
    "Mini-Project from Assignment 4 - KNN\n",
    "\n",
    "July 26, 2021"
   ]
  },
  {
   "cell_type": "code",
   "execution_count": 1,
   "id": "4a08c1c2",
   "metadata": {},
   "outputs": [],
   "source": [
    "# Load some standard libraries.  I will load other libraries as necessary.\n",
    "\n",
    "import pandas as pd\n",
    "import numpy as np\n",
    "import sklearn\n",
    "import matplotlib.pyplot as plt\n",
    "import seaborn as sns"
   ]
  },
  {
   "cell_type": "code",
   "execution_count": null,
   "id": "a0db9e6b",
   "metadata": {},
   "outputs": [],
   "source": []
  },
  {
   "cell_type": "markdown",
   "id": "91415cd1",
   "metadata": {},
   "source": [
    "Question 3."
   ]
  },
  {
   "cell_type": "markdown",
   "id": "6209f31d",
   "metadata": {},
   "source": [
    "Find your own dataset suitable for classification or regression with at least three input variables and 200 or more cases: Depending on the target variable of interest, you would build a k-nearest neighbor classifier or regressor using the appropriate sklearn estimator. Find some interesting unique dataset that is not popularly used in the internet. "
   ]
  },
  {
   "cell_type": "markdown",
   "id": "98984252",
   "metadata": {},
   "source": [
    "George's Spotify analysis.  \n",
    "\n",
    "George McIntire posted an attempt to build a classifier that can predict whether or not he likes a song.  Based on data available via Spotify's API, and George's classification of \"1\" - he liked the song, or \"0\" - he did not like a song, could the data available accurately predict if he would like future songs or not.  Only the data was downloaded for the following analysis.\n",
    "\n",
    "Can Spotify's API available data predict whether George will like a song?\n",
    "\n",
    "Data available:  https://www.kaggle.com/geomack/spotifyclassification?select=data.csv\n",
    "\n",
    "This is interesting to me for this little mini-project, and I may attempt to work more on this for the Class Project, using the API to pull music meaningful to me.  \n",
    "\n"
   ]
  },
  {
   "cell_type": "markdown",
   "id": "948d7a53",
   "metadata": {},
   "source": [
    "a)\tState your research question "
   ]
  },
  {
   "cell_type": "markdown",
   "id": "24ba081a",
   "metadata": {},
   "source": [
    "\n",
    "Can Spotify's API available data predict whether George will like a song?\n"
   ]
  },
  {
   "cell_type": "markdown",
   "id": "22d847c4",
   "metadata": {},
   "source": [
    "b)\tData pre-processing (to the extent deemed necessary: remember the knn algorithm depends on distances, so you need to rescale, normalize or standardize your input values to make sure no variable influences the predictions due to it scale). "
   ]
  },
  {
   "cell_type": "code",
   "execution_count": 50,
   "id": "dd7d33fc",
   "metadata": {},
   "outputs": [],
   "source": [
    "# Get the data:\n",
    "\n",
    "data = pd.read_csv(\"George_spot_data.csv\")"
   ]
  },
  {
   "cell_type": "code",
   "execution_count": 51,
   "id": "597b3fdd",
   "metadata": {},
   "outputs": [
    {
     "data": {
      "text/html": [
       "<div>\n",
       "<style scoped>\n",
       "    .dataframe tbody tr th:only-of-type {\n",
       "        vertical-align: middle;\n",
       "    }\n",
       "\n",
       "    .dataframe tbody tr th {\n",
       "        vertical-align: top;\n",
       "    }\n",
       "\n",
       "    .dataframe thead th {\n",
       "        text-align: right;\n",
       "    }\n",
       "</style>\n",
       "<table border=\"1\" class=\"dataframe\">\n",
       "  <thead>\n",
       "    <tr style=\"text-align: right;\">\n",
       "      <th></th>\n",
       "      <th>Unnamed: 0</th>\n",
       "      <th>acousticness</th>\n",
       "      <th>danceability</th>\n",
       "      <th>duration_ms</th>\n",
       "      <th>energy</th>\n",
       "      <th>instrumentalness</th>\n",
       "      <th>key</th>\n",
       "      <th>liveness</th>\n",
       "      <th>loudness</th>\n",
       "      <th>mode</th>\n",
       "      <th>speechiness</th>\n",
       "      <th>tempo</th>\n",
       "      <th>time_signature</th>\n",
       "      <th>valence</th>\n",
       "      <th>target</th>\n",
       "      <th>song_title</th>\n",
       "      <th>artist</th>\n",
       "    </tr>\n",
       "  </thead>\n",
       "  <tbody>\n",
       "    <tr>\n",
       "      <th>0</th>\n",
       "      <td>0</td>\n",
       "      <td>0.01020</td>\n",
       "      <td>0.833</td>\n",
       "      <td>204600</td>\n",
       "      <td>0.434</td>\n",
       "      <td>0.021900</td>\n",
       "      <td>2</td>\n",
       "      <td>0.1650</td>\n",
       "      <td>-8.795</td>\n",
       "      <td>1</td>\n",
       "      <td>0.4310</td>\n",
       "      <td>150.062</td>\n",
       "      <td>4.0</td>\n",
       "      <td>0.286</td>\n",
       "      <td>1</td>\n",
       "      <td>Mask Off</td>\n",
       "      <td>Future</td>\n",
       "    </tr>\n",
       "    <tr>\n",
       "      <th>1</th>\n",
       "      <td>1</td>\n",
       "      <td>0.19900</td>\n",
       "      <td>0.743</td>\n",
       "      <td>326933</td>\n",
       "      <td>0.359</td>\n",
       "      <td>0.006110</td>\n",
       "      <td>1</td>\n",
       "      <td>0.1370</td>\n",
       "      <td>-10.401</td>\n",
       "      <td>1</td>\n",
       "      <td>0.0794</td>\n",
       "      <td>160.083</td>\n",
       "      <td>4.0</td>\n",
       "      <td>0.588</td>\n",
       "      <td>1</td>\n",
       "      <td>Redbone</td>\n",
       "      <td>Childish Gambino</td>\n",
       "    </tr>\n",
       "    <tr>\n",
       "      <th>2</th>\n",
       "      <td>2</td>\n",
       "      <td>0.03440</td>\n",
       "      <td>0.838</td>\n",
       "      <td>185707</td>\n",
       "      <td>0.412</td>\n",
       "      <td>0.000234</td>\n",
       "      <td>2</td>\n",
       "      <td>0.1590</td>\n",
       "      <td>-7.148</td>\n",
       "      <td>1</td>\n",
       "      <td>0.2890</td>\n",
       "      <td>75.044</td>\n",
       "      <td>4.0</td>\n",
       "      <td>0.173</td>\n",
       "      <td>1</td>\n",
       "      <td>Xanny Family</td>\n",
       "      <td>Future</td>\n",
       "    </tr>\n",
       "    <tr>\n",
       "      <th>3</th>\n",
       "      <td>3</td>\n",
       "      <td>0.60400</td>\n",
       "      <td>0.494</td>\n",
       "      <td>199413</td>\n",
       "      <td>0.338</td>\n",
       "      <td>0.510000</td>\n",
       "      <td>5</td>\n",
       "      <td>0.0922</td>\n",
       "      <td>-15.236</td>\n",
       "      <td>1</td>\n",
       "      <td>0.0261</td>\n",
       "      <td>86.468</td>\n",
       "      <td>4.0</td>\n",
       "      <td>0.230</td>\n",
       "      <td>1</td>\n",
       "      <td>Master Of None</td>\n",
       "      <td>Beach House</td>\n",
       "    </tr>\n",
       "    <tr>\n",
       "      <th>4</th>\n",
       "      <td>4</td>\n",
       "      <td>0.18000</td>\n",
       "      <td>0.678</td>\n",
       "      <td>392893</td>\n",
       "      <td>0.561</td>\n",
       "      <td>0.512000</td>\n",
       "      <td>5</td>\n",
       "      <td>0.4390</td>\n",
       "      <td>-11.648</td>\n",
       "      <td>0</td>\n",
       "      <td>0.0694</td>\n",
       "      <td>174.004</td>\n",
       "      <td>4.0</td>\n",
       "      <td>0.904</td>\n",
       "      <td>1</td>\n",
       "      <td>Parallel Lines</td>\n",
       "      <td>Junior Boys</td>\n",
       "    </tr>\n",
       "    <tr>\n",
       "      <th>...</th>\n",
       "      <td>...</td>\n",
       "      <td>...</td>\n",
       "      <td>...</td>\n",
       "      <td>...</td>\n",
       "      <td>...</td>\n",
       "      <td>...</td>\n",
       "      <td>...</td>\n",
       "      <td>...</td>\n",
       "      <td>...</td>\n",
       "      <td>...</td>\n",
       "      <td>...</td>\n",
       "      <td>...</td>\n",
       "      <td>...</td>\n",
       "      <td>...</td>\n",
       "      <td>...</td>\n",
       "      <td>...</td>\n",
       "      <td>...</td>\n",
       "    </tr>\n",
       "    <tr>\n",
       "      <th>2012</th>\n",
       "      <td>2012</td>\n",
       "      <td>0.00106</td>\n",
       "      <td>0.584</td>\n",
       "      <td>274404</td>\n",
       "      <td>0.932</td>\n",
       "      <td>0.002690</td>\n",
       "      <td>1</td>\n",
       "      <td>0.1290</td>\n",
       "      <td>-3.501</td>\n",
       "      <td>1</td>\n",
       "      <td>0.3330</td>\n",
       "      <td>74.976</td>\n",
       "      <td>4.0</td>\n",
       "      <td>0.211</td>\n",
       "      <td>0</td>\n",
       "      <td>Like A Bitch - Kill The Noise Remix</td>\n",
       "      <td>Kill The Noise</td>\n",
       "    </tr>\n",
       "    <tr>\n",
       "      <th>2013</th>\n",
       "      <td>2013</td>\n",
       "      <td>0.08770</td>\n",
       "      <td>0.894</td>\n",
       "      <td>182182</td>\n",
       "      <td>0.892</td>\n",
       "      <td>0.001670</td>\n",
       "      <td>1</td>\n",
       "      <td>0.0528</td>\n",
       "      <td>-2.663</td>\n",
       "      <td>1</td>\n",
       "      <td>0.1310</td>\n",
       "      <td>110.041</td>\n",
       "      <td>4.0</td>\n",
       "      <td>0.867</td>\n",
       "      <td>0</td>\n",
       "      <td>Candy</td>\n",
       "      <td>Dillon Francis</td>\n",
       "    </tr>\n",
       "    <tr>\n",
       "      <th>2014</th>\n",
       "      <td>2014</td>\n",
       "      <td>0.00857</td>\n",
       "      <td>0.637</td>\n",
       "      <td>207200</td>\n",
       "      <td>0.935</td>\n",
       "      <td>0.003990</td>\n",
       "      <td>0</td>\n",
       "      <td>0.2140</td>\n",
       "      <td>-2.467</td>\n",
       "      <td>1</td>\n",
       "      <td>0.1070</td>\n",
       "      <td>150.082</td>\n",
       "      <td>4.0</td>\n",
       "      <td>0.470</td>\n",
       "      <td>0</td>\n",
       "      <td>Habit - Dack Janiels &amp; Wenzday Remix</td>\n",
       "      <td>Rain Man</td>\n",
       "    </tr>\n",
       "    <tr>\n",
       "      <th>2015</th>\n",
       "      <td>2015</td>\n",
       "      <td>0.00164</td>\n",
       "      <td>0.557</td>\n",
       "      <td>185600</td>\n",
       "      <td>0.992</td>\n",
       "      <td>0.677000</td>\n",
       "      <td>1</td>\n",
       "      <td>0.0913</td>\n",
       "      <td>-2.735</td>\n",
       "      <td>1</td>\n",
       "      <td>0.1330</td>\n",
       "      <td>150.011</td>\n",
       "      <td>4.0</td>\n",
       "      <td>0.623</td>\n",
       "      <td>0</td>\n",
       "      <td>First Contact</td>\n",
       "      <td>Twin Moons</td>\n",
       "    </tr>\n",
       "    <tr>\n",
       "      <th>2016</th>\n",
       "      <td>2016</td>\n",
       "      <td>0.00281</td>\n",
       "      <td>0.446</td>\n",
       "      <td>204520</td>\n",
       "      <td>0.915</td>\n",
       "      <td>0.000039</td>\n",
       "      <td>9</td>\n",
       "      <td>0.2180</td>\n",
       "      <td>-6.221</td>\n",
       "      <td>1</td>\n",
       "      <td>0.1410</td>\n",
       "      <td>190.013</td>\n",
       "      <td>4.0</td>\n",
       "      <td>0.402</td>\n",
       "      <td>0</td>\n",
       "      <td>I Wanna Get Better</td>\n",
       "      <td>Bleachers</td>\n",
       "    </tr>\n",
       "  </tbody>\n",
       "</table>\n",
       "<p>2017 rows × 17 columns</p>\n",
       "</div>"
      ],
      "text/plain": [
       "      Unnamed: 0  acousticness  danceability  duration_ms  energy  \\\n",
       "0              0       0.01020         0.833       204600   0.434   \n",
       "1              1       0.19900         0.743       326933   0.359   \n",
       "2              2       0.03440         0.838       185707   0.412   \n",
       "3              3       0.60400         0.494       199413   0.338   \n",
       "4              4       0.18000         0.678       392893   0.561   \n",
       "...          ...           ...           ...          ...     ...   \n",
       "2012        2012       0.00106         0.584       274404   0.932   \n",
       "2013        2013       0.08770         0.894       182182   0.892   \n",
       "2014        2014       0.00857         0.637       207200   0.935   \n",
       "2015        2015       0.00164         0.557       185600   0.992   \n",
       "2016        2016       0.00281         0.446       204520   0.915   \n",
       "\n",
       "      instrumentalness  key  liveness  loudness  mode  speechiness    tempo  \\\n",
       "0             0.021900    2    0.1650    -8.795     1       0.4310  150.062   \n",
       "1             0.006110    1    0.1370   -10.401     1       0.0794  160.083   \n",
       "2             0.000234    2    0.1590    -7.148     1       0.2890   75.044   \n",
       "3             0.510000    5    0.0922   -15.236     1       0.0261   86.468   \n",
       "4             0.512000    5    0.4390   -11.648     0       0.0694  174.004   \n",
       "...                ...  ...       ...       ...   ...          ...      ...   \n",
       "2012          0.002690    1    0.1290    -3.501     1       0.3330   74.976   \n",
       "2013          0.001670    1    0.0528    -2.663     1       0.1310  110.041   \n",
       "2014          0.003990    0    0.2140    -2.467     1       0.1070  150.082   \n",
       "2015          0.677000    1    0.0913    -2.735     1       0.1330  150.011   \n",
       "2016          0.000039    9    0.2180    -6.221     1       0.1410  190.013   \n",
       "\n",
       "      time_signature  valence  target                            song_title  \\\n",
       "0                4.0    0.286       1                              Mask Off   \n",
       "1                4.0    0.588       1                               Redbone   \n",
       "2                4.0    0.173       1                          Xanny Family   \n",
       "3                4.0    0.230       1                        Master Of None   \n",
       "4                4.0    0.904       1                        Parallel Lines   \n",
       "...              ...      ...     ...                                   ...   \n",
       "2012             4.0    0.211       0   Like A Bitch - Kill The Noise Remix   \n",
       "2013             4.0    0.867       0                                 Candy   \n",
       "2014             4.0    0.470       0  Habit - Dack Janiels & Wenzday Remix   \n",
       "2015             4.0    0.623       0                         First Contact   \n",
       "2016             4.0    0.402       0                    I Wanna Get Better   \n",
       "\n",
       "                artist  \n",
       "0               Future  \n",
       "1     Childish Gambino  \n",
       "2               Future  \n",
       "3          Beach House  \n",
       "4          Junior Boys  \n",
       "...                ...  \n",
       "2012    Kill The Noise  \n",
       "2013    Dillon Francis  \n",
       "2014          Rain Man  \n",
       "2015        Twin Moons  \n",
       "2016         Bleachers  \n",
       "\n",
       "[2017 rows x 17 columns]"
      ]
     },
     "execution_count": 51,
     "metadata": {},
     "output_type": "execute_result"
    }
   ],
   "source": [
    "data"
   ]
  },
  {
   "cell_type": "code",
   "execution_count": 52,
   "id": "990e6174",
   "metadata": {},
   "outputs": [],
   "source": [
    "# I will use danceability, energy, liveness and tempo \n",
    "# to try to predict the MODE - 0 for George doesn't like, and 1 for George likes."
   ]
  },
  {
   "cell_type": "code",
   "execution_count": 53,
   "id": "a2f5d190",
   "metadata": {},
   "outputs": [
    {
     "data": {
      "text/html": [
       "<div>\n",
       "<style scoped>\n",
       "    .dataframe tbody tr th:only-of-type {\n",
       "        vertical-align: middle;\n",
       "    }\n",
       "\n",
       "    .dataframe tbody tr th {\n",
       "        vertical-align: top;\n",
       "    }\n",
       "\n",
       "    .dataframe thead th {\n",
       "        text-align: right;\n",
       "    }\n",
       "</style>\n",
       "<table border=\"1\" class=\"dataframe\">\n",
       "  <thead>\n",
       "    <tr style=\"text-align: right;\">\n",
       "      <th></th>\n",
       "      <th>danceability</th>\n",
       "      <th>energy</th>\n",
       "      <th>liveness</th>\n",
       "      <th>tempo</th>\n",
       "      <th>mode</th>\n",
       "    </tr>\n",
       "  </thead>\n",
       "  <tbody>\n",
       "    <tr>\n",
       "      <th>0</th>\n",
       "      <td>0.833</td>\n",
       "      <td>0.434</td>\n",
       "      <td>0.1650</td>\n",
       "      <td>150.062</td>\n",
       "      <td>1</td>\n",
       "    </tr>\n",
       "    <tr>\n",
       "      <th>1</th>\n",
       "      <td>0.743</td>\n",
       "      <td>0.359</td>\n",
       "      <td>0.1370</td>\n",
       "      <td>160.083</td>\n",
       "      <td>1</td>\n",
       "    </tr>\n",
       "    <tr>\n",
       "      <th>2</th>\n",
       "      <td>0.838</td>\n",
       "      <td>0.412</td>\n",
       "      <td>0.1590</td>\n",
       "      <td>75.044</td>\n",
       "      <td>1</td>\n",
       "    </tr>\n",
       "    <tr>\n",
       "      <th>3</th>\n",
       "      <td>0.494</td>\n",
       "      <td>0.338</td>\n",
       "      <td>0.0922</td>\n",
       "      <td>86.468</td>\n",
       "      <td>1</td>\n",
       "    </tr>\n",
       "    <tr>\n",
       "      <th>4</th>\n",
       "      <td>0.678</td>\n",
       "      <td>0.561</td>\n",
       "      <td>0.4390</td>\n",
       "      <td>174.004</td>\n",
       "      <td>0</td>\n",
       "    </tr>\n",
       "    <tr>\n",
       "      <th>...</th>\n",
       "      <td>...</td>\n",
       "      <td>...</td>\n",
       "      <td>...</td>\n",
       "      <td>...</td>\n",
       "      <td>...</td>\n",
       "    </tr>\n",
       "    <tr>\n",
       "      <th>2012</th>\n",
       "      <td>0.584</td>\n",
       "      <td>0.932</td>\n",
       "      <td>0.1290</td>\n",
       "      <td>74.976</td>\n",
       "      <td>1</td>\n",
       "    </tr>\n",
       "    <tr>\n",
       "      <th>2013</th>\n",
       "      <td>0.894</td>\n",
       "      <td>0.892</td>\n",
       "      <td>0.0528</td>\n",
       "      <td>110.041</td>\n",
       "      <td>1</td>\n",
       "    </tr>\n",
       "    <tr>\n",
       "      <th>2014</th>\n",
       "      <td>0.637</td>\n",
       "      <td>0.935</td>\n",
       "      <td>0.2140</td>\n",
       "      <td>150.082</td>\n",
       "      <td>1</td>\n",
       "    </tr>\n",
       "    <tr>\n",
       "      <th>2015</th>\n",
       "      <td>0.557</td>\n",
       "      <td>0.992</td>\n",
       "      <td>0.0913</td>\n",
       "      <td>150.011</td>\n",
       "      <td>1</td>\n",
       "    </tr>\n",
       "    <tr>\n",
       "      <th>2016</th>\n",
       "      <td>0.446</td>\n",
       "      <td>0.915</td>\n",
       "      <td>0.2180</td>\n",
       "      <td>190.013</td>\n",
       "      <td>1</td>\n",
       "    </tr>\n",
       "  </tbody>\n",
       "</table>\n",
       "<p>2017 rows × 5 columns</p>\n",
       "</div>"
      ],
      "text/plain": [
       "      danceability  energy  liveness    tempo  mode\n",
       "0            0.833   0.434    0.1650  150.062     1\n",
       "1            0.743   0.359    0.1370  160.083     1\n",
       "2            0.838   0.412    0.1590   75.044     1\n",
       "3            0.494   0.338    0.0922   86.468     1\n",
       "4            0.678   0.561    0.4390  174.004     0\n",
       "...            ...     ...       ...      ...   ...\n",
       "2012         0.584   0.932    0.1290   74.976     1\n",
       "2013         0.894   0.892    0.0528  110.041     1\n",
       "2014         0.637   0.935    0.2140  150.082     1\n",
       "2015         0.557   0.992    0.0913  150.011     1\n",
       "2016         0.446   0.915    0.2180  190.013     1\n",
       "\n",
       "[2017 rows x 5 columns]"
      ]
     },
     "execution_count": 53,
     "metadata": {},
     "output_type": "execute_result"
    }
   ],
   "source": [
    "# Pull out the columns I am interested in for this analysis.\n",
    "spot_data = data[[\"danceability\", \"energy\", \"liveness\", \"tempo\", \"mode\"]]\n",
    "spot_data"
   ]
  },
  {
   "cell_type": "code",
   "execution_count": 54,
   "id": "0172860b",
   "metadata": {},
   "outputs": [
    {
     "name": "stdout",
     "output_type": "stream",
     "text": [
      "<class 'pandas.core.frame.DataFrame'>\n",
      "RangeIndex: 2017 entries, 0 to 2016\n",
      "Data columns (total 5 columns):\n",
      " #   Column        Non-Null Count  Dtype  \n",
      "---  ------        --------------  -----  \n",
      " 0   danceability  2017 non-null   float64\n",
      " 1   energy        2017 non-null   float64\n",
      " 2   liveness      2017 non-null   float64\n",
      " 3   tempo         2017 non-null   float64\n",
      " 4   mode          2017 non-null   int64  \n",
      "dtypes: float64(4), int64(1)\n",
      "memory usage: 78.9 KB\n"
     ]
    }
   ],
   "source": [
    "spot_data.info()"
   ]
  },
  {
   "cell_type": "code",
   "execution_count": 55,
   "id": "a3e0f565",
   "metadata": {},
   "outputs": [
    {
     "data": {
      "text/html": [
       "<div>\n",
       "<style scoped>\n",
       "    .dataframe tbody tr th:only-of-type {\n",
       "        vertical-align: middle;\n",
       "    }\n",
       "\n",
       "    .dataframe tbody tr th {\n",
       "        vertical-align: top;\n",
       "    }\n",
       "\n",
       "    .dataframe thead th {\n",
       "        text-align: right;\n",
       "    }\n",
       "</style>\n",
       "<table border=\"1\" class=\"dataframe\">\n",
       "  <thead>\n",
       "    <tr style=\"text-align: right;\">\n",
       "      <th></th>\n",
       "      <th>danceability</th>\n",
       "      <th>energy</th>\n",
       "      <th>liveness</th>\n",
       "      <th>tempo</th>\n",
       "      <th>mode</th>\n",
       "    </tr>\n",
       "  </thead>\n",
       "  <tbody>\n",
       "    <tr>\n",
       "      <th>count</th>\n",
       "      <td>2017.000000</td>\n",
       "      <td>2017.000000</td>\n",
       "      <td>2017.000000</td>\n",
       "      <td>2017.000000</td>\n",
       "      <td>2017.000000</td>\n",
       "    </tr>\n",
       "    <tr>\n",
       "      <th>mean</th>\n",
       "      <td>0.618422</td>\n",
       "      <td>0.681577</td>\n",
       "      <td>0.190844</td>\n",
       "      <td>121.603272</td>\n",
       "      <td>0.612295</td>\n",
       "    </tr>\n",
       "    <tr>\n",
       "      <th>std</th>\n",
       "      <td>0.161029</td>\n",
       "      <td>0.210273</td>\n",
       "      <td>0.155453</td>\n",
       "      <td>26.685604</td>\n",
       "      <td>0.487347</td>\n",
       "    </tr>\n",
       "    <tr>\n",
       "      <th>min</th>\n",
       "      <td>0.122000</td>\n",
       "      <td>0.014800</td>\n",
       "      <td>0.018800</td>\n",
       "      <td>47.859000</td>\n",
       "      <td>0.000000</td>\n",
       "    </tr>\n",
       "    <tr>\n",
       "      <th>25%</th>\n",
       "      <td>0.514000</td>\n",
       "      <td>0.563000</td>\n",
       "      <td>0.092300</td>\n",
       "      <td>100.189000</td>\n",
       "      <td>0.000000</td>\n",
       "    </tr>\n",
       "    <tr>\n",
       "      <th>50%</th>\n",
       "      <td>0.631000</td>\n",
       "      <td>0.715000</td>\n",
       "      <td>0.127000</td>\n",
       "      <td>121.427000</td>\n",
       "      <td>1.000000</td>\n",
       "    </tr>\n",
       "    <tr>\n",
       "      <th>75%</th>\n",
       "      <td>0.738000</td>\n",
       "      <td>0.846000</td>\n",
       "      <td>0.247000</td>\n",
       "      <td>137.849000</td>\n",
       "      <td>1.000000</td>\n",
       "    </tr>\n",
       "    <tr>\n",
       "      <th>max</th>\n",
       "      <td>0.984000</td>\n",
       "      <td>0.998000</td>\n",
       "      <td>0.969000</td>\n",
       "      <td>219.331000</td>\n",
       "      <td>1.000000</td>\n",
       "    </tr>\n",
       "  </tbody>\n",
       "</table>\n",
       "</div>"
      ],
      "text/plain": [
       "       danceability       energy     liveness        tempo         mode\n",
       "count   2017.000000  2017.000000  2017.000000  2017.000000  2017.000000\n",
       "mean       0.618422     0.681577     0.190844   121.603272     0.612295\n",
       "std        0.161029     0.210273     0.155453    26.685604     0.487347\n",
       "min        0.122000     0.014800     0.018800    47.859000     0.000000\n",
       "25%        0.514000     0.563000     0.092300   100.189000     0.000000\n",
       "50%        0.631000     0.715000     0.127000   121.427000     1.000000\n",
       "75%        0.738000     0.846000     0.247000   137.849000     1.000000\n",
       "max        0.984000     0.998000     0.969000   219.331000     1.000000"
      ]
     },
     "execution_count": 55,
     "metadata": {},
     "output_type": "execute_result"
    }
   ],
   "source": [
    "spot_data.describe()"
   ]
  },
  {
   "cell_type": "code",
   "execution_count": 56,
   "id": "55c8e163",
   "metadata": {},
   "outputs": [
    {
     "name": "stderr",
     "output_type": "stream",
     "text": [
      "<ipython-input-56-0b56a9ff459a>:7: SettingWithCopyWarning: \n",
      "A value is trying to be set on a copy of a slice from a DataFrame.\n",
      "Try using .loc[row_indexer,col_indexer] = value instead\n",
      "\n",
      "See the caveats in the documentation: https://pandas.pydata.org/pandas-docs/stable/user_guide/indexing.html#returning-a-view-versus-a-copy\n",
      "  spot_data[['tempo']] = scaler.fit_transform(spot_data[['tempo']])\n",
      "/Users/pauloleary/opt/miniconda3/envs/dst2_env/lib/python3.9/site-packages/pandas/core/indexing.py:1738: SettingWithCopyWarning: \n",
      "A value is trying to be set on a copy of a slice from a DataFrame.\n",
      "Try using .loc[row_indexer,col_indexer] = value instead\n",
      "\n",
      "See the caveats in the documentation: https://pandas.pydata.org/pandas-docs/stable/user_guide/indexing.html#returning-a-view-versus-a-copy\n",
      "  self._setitem_single_column(loc, value[:, i].tolist(), pi)\n"
     ]
    }
   ],
   "source": [
    "# All but Tempo already range from near 0 to near 1.  I'll scale tempo.\n",
    "\n",
    "from sklearn.preprocessing import MinMaxScaler\n",
    "\n",
    "scaler = MinMaxScaler()\n",
    "\n",
    "spot_data[['tempo']] = scaler.fit_transform(spot_data[['tempo']])"
   ]
  },
  {
   "cell_type": "code",
   "execution_count": 57,
   "id": "0a540520",
   "metadata": {},
   "outputs": [
    {
     "data": {
      "text/html": [
       "<div>\n",
       "<style scoped>\n",
       "    .dataframe tbody tr th:only-of-type {\n",
       "        vertical-align: middle;\n",
       "    }\n",
       "\n",
       "    .dataframe tbody tr th {\n",
       "        vertical-align: top;\n",
       "    }\n",
       "\n",
       "    .dataframe thead th {\n",
       "        text-align: right;\n",
       "    }\n",
       "</style>\n",
       "<table border=\"1\" class=\"dataframe\">\n",
       "  <thead>\n",
       "    <tr style=\"text-align: right;\">\n",
       "      <th></th>\n",
       "      <th>danceability</th>\n",
       "      <th>energy</th>\n",
       "      <th>liveness</th>\n",
       "      <th>tempo</th>\n",
       "      <th>mode</th>\n",
       "    </tr>\n",
       "  </thead>\n",
       "  <tbody>\n",
       "    <tr>\n",
       "      <th>0</th>\n",
       "      <td>0.833</td>\n",
       "      <td>0.434</td>\n",
       "      <td>0.1650</td>\n",
       "      <td>0.596033</td>\n",
       "      <td>1</td>\n",
       "    </tr>\n",
       "    <tr>\n",
       "      <th>1</th>\n",
       "      <td>0.743</td>\n",
       "      <td>0.359</td>\n",
       "      <td>0.1370</td>\n",
       "      <td>0.654474</td>\n",
       "      <td>1</td>\n",
       "    </tr>\n",
       "    <tr>\n",
       "      <th>2</th>\n",
       "      <td>0.838</td>\n",
       "      <td>0.412</td>\n",
       "      <td>0.1590</td>\n",
       "      <td>0.158539</td>\n",
       "      <td>1</td>\n",
       "    </tr>\n",
       "    <tr>\n",
       "      <th>3</th>\n",
       "      <td>0.494</td>\n",
       "      <td>0.338</td>\n",
       "      <td>0.0922</td>\n",
       "      <td>0.225162</td>\n",
       "      <td>1</td>\n",
       "    </tr>\n",
       "    <tr>\n",
       "      <th>4</th>\n",
       "      <td>0.678</td>\n",
       "      <td>0.561</td>\n",
       "      <td>0.4390</td>\n",
       "      <td>0.735659</td>\n",
       "      <td>0</td>\n",
       "    </tr>\n",
       "    <tr>\n",
       "      <th>...</th>\n",
       "      <td>...</td>\n",
       "      <td>...</td>\n",
       "      <td>...</td>\n",
       "      <td>...</td>\n",
       "      <td>...</td>\n",
       "    </tr>\n",
       "    <tr>\n",
       "      <th>2012</th>\n",
       "      <td>0.584</td>\n",
       "      <td>0.932</td>\n",
       "      <td>0.1290</td>\n",
       "      <td>0.158142</td>\n",
       "      <td>1</td>\n",
       "    </tr>\n",
       "    <tr>\n",
       "      <th>2013</th>\n",
       "      <td>0.894</td>\n",
       "      <td>0.892</td>\n",
       "      <td>0.0528</td>\n",
       "      <td>0.362636</td>\n",
       "      <td>1</td>\n",
       "    </tr>\n",
       "    <tr>\n",
       "      <th>2014</th>\n",
       "      <td>0.637</td>\n",
       "      <td>0.935</td>\n",
       "      <td>0.2140</td>\n",
       "      <td>0.596150</td>\n",
       "      <td>1</td>\n",
       "    </tr>\n",
       "    <tr>\n",
       "      <th>2015</th>\n",
       "      <td>0.557</td>\n",
       "      <td>0.992</td>\n",
       "      <td>0.0913</td>\n",
       "      <td>0.595736</td>\n",
       "      <td>1</td>\n",
       "    </tr>\n",
       "    <tr>\n",
       "      <th>2016</th>\n",
       "      <td>0.446</td>\n",
       "      <td>0.915</td>\n",
       "      <td>0.2180</td>\n",
       "      <td>0.829022</td>\n",
       "      <td>1</td>\n",
       "    </tr>\n",
       "  </tbody>\n",
       "</table>\n",
       "<p>2017 rows × 5 columns</p>\n",
       "</div>"
      ],
      "text/plain": [
       "      danceability  energy  liveness     tempo  mode\n",
       "0            0.833   0.434    0.1650  0.596033     1\n",
       "1            0.743   0.359    0.1370  0.654474     1\n",
       "2            0.838   0.412    0.1590  0.158539     1\n",
       "3            0.494   0.338    0.0922  0.225162     1\n",
       "4            0.678   0.561    0.4390  0.735659     0\n",
       "...            ...     ...       ...       ...   ...\n",
       "2012         0.584   0.932    0.1290  0.158142     1\n",
       "2013         0.894   0.892    0.0528  0.362636     1\n",
       "2014         0.637   0.935    0.2140  0.596150     1\n",
       "2015         0.557   0.992    0.0913  0.595736     1\n",
       "2016         0.446   0.915    0.2180  0.829022     1\n",
       "\n",
       "[2017 rows x 5 columns]"
      ]
     },
     "execution_count": 57,
     "metadata": {},
     "output_type": "execute_result"
    }
   ],
   "source": [
    "# Warning notwithstanding, the data is scaled.\n",
    "\n",
    "spot_data"
   ]
  },
  {
   "cell_type": "markdown",
   "id": "ccdd9bfe",
   "metadata": {},
   "source": [
    "c)\tData splitting "
   ]
  },
  {
   "cell_type": "code",
   "execution_count": 58,
   "id": "60c07ec9",
   "metadata": {},
   "outputs": [],
   "source": [
    "# Perform the usual to split the data into train and test sets.\n",
    "\n",
    "from sklearn.model_selection import train_test_split\n",
    "\n",
    "feat = spot_data.drop(\"mode\",axis=1)\n",
    "targ = spot_data[\"mode\"].copy()\n",
    "\n",
    "X_train, X_test, y_train, y_test = train_test_split(feat, targ, test_size=0.3, random_state=42)"
   ]
  },
  {
   "cell_type": "code",
   "execution_count": null,
   "id": "906cbea5",
   "metadata": {},
   "outputs": [],
   "source": []
  },
  {
   "cell_type": "markdown",
   "id": "4d55a546",
   "metadata": {},
   "source": [
    "d)\tModel construction "
   ]
  },
  {
   "cell_type": "code",
   "execution_count": 59,
   "id": "d0f83f95",
   "metadata": {},
   "outputs": [],
   "source": [
    "# K Nearest Neighbors Classifier\n",
    "\n",
    "from sklearn.neighbors import KNeighborsClassifier"
   ]
  },
  {
   "cell_type": "code",
   "execution_count": 60,
   "id": "c433c698",
   "metadata": {},
   "outputs": [
    {
     "data": {
      "text/plain": [
       "KNeighborsClassifier()"
      ]
     },
     "execution_count": 60,
     "metadata": {},
     "output_type": "execute_result"
    }
   ],
   "source": [
    "knn = KNeighborsClassifier()\n",
    "knn.fit(X_train, y_train)"
   ]
  },
  {
   "cell_type": "code",
   "execution_count": 61,
   "id": "21927bbf",
   "metadata": {},
   "outputs": [
    {
     "data": {
      "text/plain": [
       "0.5808580858085809"
      ]
     },
     "execution_count": 61,
     "metadata": {},
     "output_type": "execute_result"
    }
   ],
   "source": [
    "# Early return on the accuracy:\n",
    "\n",
    "from sklearn.metrics import accuracy_score\n",
    "\n",
    "pred = knn.predict(X_test)\n",
    "accuracy_score(y_test, pred)"
   ]
  },
  {
   "cell_type": "markdown",
   "id": "93dfd416",
   "metadata": {},
   "source": [
    "58% is better than a coin flip, but maybe we can do better."
   ]
  },
  {
   "cell_type": "code",
   "execution_count": null,
   "id": "d3303900",
   "metadata": {},
   "outputs": [],
   "source": []
  },
  {
   "cell_type": "markdown",
   "id": "218d9a35",
   "metadata": {},
   "source": [
    "e)\tHyperparameter turning (choose whatever approach your like)"
   ]
  },
  {
   "cell_type": "code",
   "execution_count": 62,
   "id": "011d0116",
   "metadata": {},
   "outputs": [],
   "source": [
    "# Try a basic grid search for number of nearest neighbors and the leaf size.\n",
    "\n",
    "from sklearn.model_selection import GridSearchCV"
   ]
  },
  {
   "cell_type": "code",
   "execution_count": 63,
   "id": "cee2c011",
   "metadata": {},
   "outputs": [
    {
     "name": "stdout",
     "output_type": "stream",
     "text": [
      "Optimal:  {'leaf_size': 1, 'n_neighbors': 19, 'p': 2}\n"
     ]
    }
   ],
   "source": [
    "params = {'n_neighbors':range(1,25), 'leaf_size':range(1,50), \"p\":[1,2]}\n",
    "grid = GridSearchCV(estimator=knn, param_grid=params, scoring = \"accuracy\", cv=8)\n",
    "grid = grid.fit(X_train, y_train)\n",
    "\n",
    "print(\"Optimal: \", grid.best_params_)"
   ]
  },
  {
   "cell_type": "code",
   "execution_count": 64,
   "id": "d3f4b841",
   "metadata": {},
   "outputs": [
    {
     "data": {
      "text/plain": [
       "KNeighborsClassifier(leaf_size=1, n_neighbors=19)"
      ]
     },
     "execution_count": 64,
     "metadata": {},
     "output_type": "execute_result"
    }
   ],
   "source": [
    "# OK, let's try those params  (p = 2 is a default)\n",
    "\n",
    "knn = KNeighborsClassifier(n_neighbors = 19, leaf_size = 1, p = 2)\n",
    "knn.fit(X_train, y_train)"
   ]
  },
  {
   "cell_type": "code",
   "execution_count": 65,
   "id": "32071622",
   "metadata": {},
   "outputs": [
    {
     "data": {
      "text/plain": [
       "0.5874587458745875"
      ]
     },
     "execution_count": 65,
     "metadata": {},
     "output_type": "execute_result"
    }
   ],
   "source": [
    "from sklearn.metrics import accuracy_score\n",
    "\n",
    "pred = knn.predict(X_test)\n",
    "accuracy_score(y_test, pred)"
   ]
  },
  {
   "cell_type": "markdown",
   "id": "bd9d34e8",
   "metadata": {},
   "source": [
    "Accuracy only slightly better after a GridSearchCV -  58.7% vs. 58.1%."
   ]
  },
  {
   "cell_type": "code",
   "execution_count": 66,
   "id": "ba0e7649",
   "metadata": {},
   "outputs": [
    {
     "data": {
      "text/plain": [
       "0.6343019135364989"
      ]
     },
     "execution_count": 66,
     "metadata": {},
     "output_type": "execute_result"
    }
   ],
   "source": [
    "grid.score(X_train, y_train)"
   ]
  },
  {
   "cell_type": "code",
   "execution_count": 67,
   "id": "0712817b",
   "metadata": {},
   "outputs": [
    {
     "data": {
      "text/plain": [
       "0.5874587458745875"
      ]
     },
     "execution_count": 67,
     "metadata": {},
     "output_type": "execute_result"
    }
   ],
   "source": [
    "grid.score(X_test, y_test)"
   ]
  },
  {
   "cell_type": "markdown",
   "id": "8414316e",
   "metadata": {},
   "source": [
    "No overfitting happening."
   ]
  },
  {
   "cell_type": "code",
   "execution_count": 68,
   "id": "3a11a657",
   "metadata": {},
   "outputs": [],
   "source": [
    "# Can we do any better with cross_val_score?"
   ]
  },
  {
   "cell_type": "code",
   "execution_count": 69,
   "id": "3e0d8034",
   "metadata": {},
   "outputs": [],
   "source": [
    "from sklearn.model_selection import cross_val_score"
   ]
  },
  {
   "cell_type": "code",
   "execution_count": 70,
   "id": "53fc4b66",
   "metadata": {},
   "outputs": [
    {
     "name": "stdout",
     "output_type": "stream",
     "text": [
      "[[1, 0.5471031864948556], [2, 0.4960992907801418], [3, 0.5520777145140345], [4, 0.5109579462591151], [5, 0.5612626111277594], [6, 0.5421436419938068], [7, 0.5697932274498052], [8, 0.5435520926980322], [9, 0.57544700829088], [10, 0.5605533912696034], [11, 0.573334332234542], [12, 0.5627060233742883], [13, 0.5875137348916192], [14, 0.5726051343522126], [15, 0.5860803116571771], [16, 0.5711916891419438], [17, 0.5839726301068824], [18, 0.5705224253321346], [19, 0.5974528019178904], [20, 0.5846718609529518], [21, 0.6031065827589651], [22, 0.5839626410947958], [23, 0.5939067026271101], [24, 0.5917890320647288]]\n"
     ]
    }
   ],
   "source": [
    "scores = []\n",
    "\n",
    "for k in range(1,25):\n",
    "    \n",
    "    knn = KNeighborsClassifier(n_neighbors=k)\n",
    "    this_score = cross_val_score(knn, X_train, y_train, cv=10, scoring='accuracy')\n",
    "    scores.append([k, this_score.mean()])\n",
    "    \n",
    "print(scores)"
   ]
  },
  {
   "cell_type": "code",
   "execution_count": 71,
   "id": "9ba9b75a",
   "metadata": {},
   "outputs": [
    {
     "data": {
      "image/png": "[encoded data removed]",
      "text/plain": [
       "<Figure size 432x288 with 1 Axes>"
      ]
     },
     "metadata": {
      "needs_background": "light"
     },
     "output_type": "display_data"
    }
   ],
   "source": [
    "df_results = pd.DataFrame(scores, columns = ['K', 'Accuracy'])\n",
    "\n",
    "sns.lineplot(x='K', y='Accuracy', data=df_results).set(title=\"K value vs. Accuracy\");"
   ]
  },
  {
   "cell_type": "markdown",
   "id": "d0177fb8",
   "metadata": {},
   "source": [
    "This looks like 21 returns the highest Accuracy.  Try that:"
   ]
  },
  {
   "cell_type": "code",
   "execution_count": 72,
   "id": "a548bc23",
   "metadata": {},
   "outputs": [
    {
     "data": {
      "text/plain": [
       "KNeighborsClassifier(n_neighbors=21)"
      ]
     },
     "execution_count": 72,
     "metadata": {},
     "output_type": "execute_result"
    }
   ],
   "source": [
    "knn = KNeighborsClassifier(n_neighbors = 21)\n",
    "knn.fit(X_train, y_train)"
   ]
  },
  {
   "cell_type": "code",
   "execution_count": 73,
   "id": "c4b25528",
   "metadata": {},
   "outputs": [
    {
     "data": {
      "text/plain": [
       "0.6039603960396039"
      ]
     },
     "execution_count": 73,
     "metadata": {},
     "output_type": "execute_result"
    }
   ],
   "source": [
    "pred = knn.predict(X_test)\n",
    "accuracy_score(y_test, pred)"
   ]
  },
  {
   "cell_type": "markdown",
   "id": "4d66419d",
   "metadata": {},
   "source": [
    "And again, slightly better, at 60.4%.\n",
    "\n",
    "Tuning the Hyperparameters for this particular set of George's data made small improvements in the performance of the model.  Additional variables available in the data may affect the results, as might different modeling techniques.\n",
    "\n",
    "Beyond the scope of this \"mini\" project, I would investigate other classification techniques to determine if other models would perform better, or if \"liking\" a song is difficult to equate to some numerical measures.  (My belief is that opinions about music are far too subjective to be pinned down so simply.)"
   ]
  },
  {
   "cell_type": "code",
   "execution_count": null,
   "id": "a6ca679b",
   "metadata": {},
   "outputs": [],
   "source": []
  }
 ],
 "metadata": {
  "kernelspec": {
   "display_name": "Python 3",
   "language": "python",
   "name": "python3"
  },
  "language_info": {
   "codemirror_mode": {
    "name": "ipython",
    "version": 3
   },
   "file_extension": ".py",
   "mimetype": "text/x-python",
   "name": "python",
   "nbconvert_exporter": "python",
   "pygments_lexer": "ipython3",
   "version": "3.9.4"
  }
 },
 "nbformat": 4,
 "nbformat_minor": 5
}
